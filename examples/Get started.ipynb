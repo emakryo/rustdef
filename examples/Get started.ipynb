{
 "cells": [
  {
   "cell_type": "code",
   "execution_count": 1,
   "metadata": {
    "scrolled": true
   },
   "outputs": [
    {
     "name": "stdout",
     "output_type": "stream",
     "text": [
      "load rustdef\n"
     ]
    },
    {
     "data": {
      "application/javascript": "\nrequire(['notebook/js/codecell'], function(codecell) {\n    codecell.CodeCell.options_default.highlight_modes['text/x-rustsrc']\n        = {'reg':[/^%%rustdef/]} ;\n    Jupyter.notebook.events.one('kernel_ready.Kernel', function(){\n        Jupyter.notebook.get_cells().map(function(cell){\n        if (cell.cell_type == 'code'){ cell.auto_highlight(); } }) ;\n    });\n});\n",
      "text/plain": [
       "<IPython.core.display.Javascript object>"
      ]
     },
     "metadata": {},
     "output_type": "display_data"
    },
    {
     "name": "stderr",
     "output_type": "stream",
     "text": [
      "     Created library package\n",
      "    Updating crates.io index\n",
      "      Adding pyo3 v0.15.1 to dependencies.\n",
      "             Features:\n",
      "             + extension-module\n",
      "             + indoc\n",
      "             + macros\n",
      "             + paste\n",
      "             + pyo3-macros\n",
      "             + unindent\n",
      "             - abi3\n",
      "             - abi3-py310\n",
      "             - abi3-py36\n",
      "             - abi3-py37\n",
      "             - abi3-py38\n",
      "             - abi3-py39\n",
      "             - anyhow\n",
      "             - auto-initialize\n",
      "             - eyre\n",
      "             - hashbrown\n",
      "             - indexmap\n",
      "             - inventory\n",
      "             - multiple-pymethods\n",
      "             - nightly\n",
      "             - num-bigint\n",
      "             - num-complex\n",
      "             - serde\n"
     ]
    }
   ],
   "source": [
    "%load_ext rustdef"
   ]
  },
  {
   "cell_type": "code",
   "execution_count": 2,
   "metadata": {},
   "outputs": [
    {
     "name": "stdout",
     "output_type": "stream",
     "text": [
      "usage: %%rustdef [-h] [--force-rebuild] [--release]\n",
      "\n",
      "Define rust functions in notebook cells. Functions with #[pyfunction] are\n",
      "available in python\n",
      "\n",
      "options:\n",
      "  -h, --help       show this help message and exit\n",
      "  --force-rebuild  Build code even if there exists cache\n",
      "  --release        Build with release profile. (debug profile by default)\n"
     ]
    }
   ],
   "source": [
    "%%rustdef --help\n",
    "\n"
   ]
  },
  {
   "cell_type": "code",
   "execution_count": 3,
   "metadata": {},
   "outputs": [
    {
     "name": "stdout",
     "output_type": "stream",
     "text": [
      "Building..\n",
      "\u001b[K\u001b[0m\u001b[0m\u001b[1m\u001b[32m  Downloaded\u001b[0m pyo3-macros v0.15.2                                           \n",
      "\u001b[K\u001b[0m\u001b[0m\u001b[1m\u001b[32m  Downloaded\u001b[0m unindent v0.1.10                                              \n",
      "\u001b[K\u001b[0m\u001b[0m\u001b[1m\u001b[32m  Downloaded\u001b[0m smallvec v1.10.0 bytes: 285.7 KB                              \n",
      "\u001b[K\u001b[0m\u001b[0m\u001b[1m\u001b[32m  Downloaded\u001b[0m syn v1.0.105ning bytes: 202.3 KB                              \n",
      "\u001b[K\u001b[0m\u001b[0m\u001b[1m\u001b[32m  Downloaded\u001b[0m redox_syscall v0.2.16s: 606.6 KB                              \n",
      "\u001b[K\u001b[0m\u001b[0m\u001b[1m\u001b[32m  Downloaded\u001b[0m pyo3-build-config v0.15.224.4 KB                              \n",
      "\u001b[K\u001b[0m\u001b[0m\u001b[1m\u001b[32m  Downloaded\u001b[0m pyo3 v0.15.2ning bytes: 866.5 KB                              \n",
      "\u001b[K\u001b[0m\u001b[0m\u001b[1m\u001b[32m  Downloaded\u001b[0m libc v0.2.138                                                 \n",
      "\u001b[K\u001b[0m\u001b[0m\u001b[1m\u001b[32m  Downloaded\u001b[0m once_cell v1.16.0                                             \n",
      "\u001b[K\u001b[0m\u001b[0m\u001b[1m\u001b[32m  Downloaded\u001b[0m pyo3-macros-backend v0.15.2                                   \n",
      "\u001b[K\u001b[0m\u001b[0m\u001b[1m\u001b[32m  Downloaded\u001b[0m 10 crates (1.4 MB) in 2.24s                                   \n",
      "🔗 Found pyo3 bindings\n",
      "🐍 Found CPython 3.10 at /usr/local/anaconda3/envs/rustdef-py311/bin/python\n",
      "\u001b[0m\u001b[0m\u001b[1m\u001b[32m   Compiling\u001b[0m proc-macro2 v1.0.47\n",
      "\u001b[0m\u001b[0m\u001b[1m\u001b[32m   Compiling\u001b[0m unicode-ident v1.0.5\n",
      "\u001b[0m\u001b[0m\u001b[1m\u001b[32m   Compiling\u001b[0m quote v1.0.21\n",
      "\u001b[0m\u001b[0m\u001b[1m\u001b[32m   Compiling\u001b[0m pyo3-build-config v0.15.2\n",
      "\u001b[0m\u001b[0m\u001b[1m\u001b[32m   Compiling\u001b[0m proc-macro-hack v0.5.19\n",
      "\u001b[0m\u001b[0m\u001b[1m\u001b[32m   Compiling\u001b[0m syn v1.0.105\n",
      "\u001b[0m\u001b[0m\u001b[1m\u001b[32m   Compiling\u001b[0m once_cell v1.16.0\n",
      "\u001b[0m\u001b[0m\u001b[1m\u001b[32m   Compiling\u001b[0m libc v0.2.138\n",
      "\u001b[0m\u001b[0m\u001b[1m\u001b[32m   Compiling\u001b[0m autocfg v1.1.0\n",
      "\u001b[0m\u001b[0m\u001b[1m\u001b[32m   Compiling\u001b[0m cfg-if v1.0.0\n",
      "\u001b[0m\u001b[0m\u001b[1m\u001b[32m   Compiling\u001b[0m parking_lot_core v0.8.5\n",
      "\u001b[0m\u001b[0m\u001b[1m\u001b[32m   Compiling\u001b[0m scopeguard v1.1.0\n",
      "\u001b[0m\u001b[0m\u001b[1m\u001b[32m   Compiling\u001b[0m unindent v0.1.10\n",
      "\u001b[0m\u001b[0m\u001b[1m\u001b[32m   Compiling\u001b[0m smallvec v1.10.0\n",
      "\u001b[K\u001b[0m\u001b[0m\u001b[1m\u001b[32m   Compiling\u001b[0m instant v0.1.12           ] 0/43: proc-macro-hack(build.rs)...\n",
      "\u001b[K\u001b[0m\u001b[0m\u001b[1m\u001b[32m   Compiling\u001b[0m lock_api v0.4.9              ] 7/43: proc-macro-hack(build.rs)...\n",
      "\u001b[K\u001b[0m\u001b[0m\u001b[1m\u001b[32m   Compiling\u001b[0m paste-impl v0.1.18       ] 25/43: proc-macro-hack, lock_api......\u001b[0m\u001b[0m\u001b[1m\u001b[36m    Building\u001b[0m [==============>            ] 25/43: proc-macro-hack, lock_api...\n",
      "\u001b[K\u001b[0m\u001b[0m\u001b[1m\u001b[32m   Compiling\u001b[0m parking_lot v0.11.2      ] 29/43: paste-impl, pyo3-build-co......\n",
      "\u001b[K\u001b[0m\u001b[0m\u001b[1m\u001b[32m   Compiling\u001b[0m pyo3 v0.15.2======>         ] 29/43: paste-impl, pyo3-build-co...\n",
      "\u001b[K\u001b[0m\u001b[0m\u001b[1m\u001b[32m   Compiling\u001b[0m paste v0.1.18======>        ] 31/43: paste-impl, syn, pyo3(bui...\n",
      "\u001b[K\u001b[0m\u001b[0m\u001b[1m\u001b[32m   Compiling\u001b[0m pyo3-macros-backend v0.15.236/43: syn                            \n",
      "\u001b[K\u001b[0m\u001b[0m\u001b[1m\u001b[32m   Compiling\u001b[0m indoc-impl v0.3.6==>     ] 36/43: syn, pyo3-macros-backend        Building\u001b[0m [=====================>     ] 36/43: syn, pyo3-macros-backend    \n",
      "\u001b[K\u001b[0m\u001b[0m\u001b[1m\u001b[32m   Compiling\u001b[0m indoc v0.3.6===========>    ] 37/43: indoc-impl, pyo3-macros-b...\n",
      "\u001b[K\u001b[0m\u001b[0m\u001b[1m\u001b[32m   Compiling\u001b[0m pyo3-macros v0.15.2=====>   ] 39/43: pyo3-macros-backend         \n",
      "\u001b[K\u001b[0m\u001b[0m\u001b[1m\u001b[32m   Compiling\u001b[0m rustdef_cell_e84612d75f253e09f3dc350876180877282f5b6b v0.1.0 (/Users/ryosuke.kamesawa.mot/.rustdef/rustdef_cell_e84612d75f253e09f3dc350876180877282f5b6b)\n",
      "\u001b[K\u001b[0m\u001b[0m\u001b[1m\u001b[32m    Finished\u001b[0m dev [unoptimized + debuginfo] target(s) in 21.93s_e84612d75f25...\n",
      "📦 Built wheel for CPython 3.10 to /Users/ryosuke.kamesawa.mot/.rustdef/target/wheels/rustdef_cell_e84612d75f253e09f3dc350876180877282f5b6b-0.1.0-cp310-cp310-macosx_10_7_x86_64.whl\n",
      "Processing /Users/ryosuke.kamesawa.mot/.rustdef/target/wheels/rustdef_cell_e84612d75f253e09f3dc350876180877282f5b6b-0.1.0-cp310-cp310-macosx_10_7_x86_64.whl\n",
      "Installing collected packages: rustdef-cell-e84612d75f253e09f3dc350876180877282f5b6b\n",
      "Successfully installed rustdef-cell-e84612d75f253e09f3dc350876180877282f5b6b-0.1.0\n"
     ]
    }
   ],
   "source": [
    "%%rustdef\n",
    "\n",
    "#[pyfunction]\n",
    "fn sum_str(a: usize, b: usize) -> String {\n",
    "    (a + b).to_string()\n",
    "}"
   ]
  },
  {
   "cell_type": "code",
   "execution_count": 4,
   "metadata": {
    "scrolled": true
   },
   "outputs": [
    {
     "data": {
      "text/plain": [
       "'4'"
      ]
     },
     "execution_count": 4,
     "metadata": {},
     "output_type": "execute_result"
    }
   ],
   "source": [
    "sum_str(1, 3)"
   ]
  },
  {
   "cell_type": "code",
   "execution_count": 5,
   "metadata": {},
   "outputs": [
    {
     "name": "stdout",
     "output_type": "stream",
     "text": [
      "Building..\n",
      "🔗 Found pyo3 bindings\n",
      "🐍 Found CPython 3.10 at /usr/local/anaconda3/envs/rustdef-py311/bin/python\n",
      "\u001b[0m\u001b[0m\u001b[1m\u001b[32m   Compiling\u001b[0m rustdef_cell_9c8894af3dfe208a7fbd7c1fc30486d509d1d90a v0.1.0 (/Users/ryosuke.kamesawa.mot/.rustdef/rustdef_cell_9c8894af3dfe208a7fbd7c1fc30486d509d1d90a)\n",
      "\u001b[K\u001b[0m\u001b[0m\u001b[1m\u001b[32m    Finished\u001b[0m dev [unoptimized + debuginfo] target(s) in 1.10sl_9c8894af3dfe...\n",
      "📦 Built wheel for CPython 3.10 to /Users/ryosuke.kamesawa.mot/.rustdef/target/wheels/rustdef_cell_9c8894af3dfe208a7fbd7c1fc30486d509d1d90a-0.1.0-cp310-cp310-macosx_10_7_x86_64.whl\n",
      "Processing /Users/ryosuke.kamesawa.mot/.rustdef/target/wheels/rustdef_cell_9c8894af3dfe208a7fbd7c1fc30486d509d1d90a-0.1.0-cp310-cp310-macosx_10_7_x86_64.whl\n",
      "Installing collected packages: rustdef-cell-9c8894af3dfe208a7fbd7c1fc30486d509d1d90a\n",
      "Successfully installed rustdef-cell-9c8894af3dfe208a7fbd7c1fc30486d509d1d90a-0.1.0\n"
     ]
    }
   ],
   "source": [
    "%%rustdef\n",
    "\n",
    "#[pyfunction]\n",
    "fn sum_str(a: usize, b: usize) -> String {\n",
    "    format!(\"0x{:x}\", a + b)\n",
    "}"
   ]
  },
  {
   "cell_type": "code",
   "execution_count": 6,
   "metadata": {
    "scrolled": true
   },
   "outputs": [
    {
     "data": {
      "text/plain": [
       "'0xd'"
      ]
     },
     "execution_count": 6,
     "metadata": {},
     "output_type": "execute_result"
    }
   ],
   "source": [
    "sum_str(10, 3)"
   ]
  },
  {
   "cell_type": "code",
   "execution_count": 7,
   "metadata": {},
   "outputs": [
    {
     "name": "stdout",
     "output_type": "stream",
     "text": [
      "Building..\n",
      "🔗 Found pyo3 bindings\n",
      "🐍 Found CPython 3.10 at /usr/local/anaconda3/envs/rustdef-py311/bin/python\n",
      "\u001b[0m\u001b[0m\u001b[1m\u001b[32m   Compiling\u001b[0m rustdef_cell_10f762d93cfe32866893096dd797fbbe839e68e5 v0.1.0 (/Users/ryosuke.kamesawa.mot/.rustdef/rustdef_cell_10f762d93cfe32866893096dd797fbbe839e68e5)\n",
      "\u001b[K\u001b[0m\u001b[0m\u001b[1m\u001b[32m    Finished\u001b[0m dev [unoptimized + debuginfo] target(s) in 1.17sl_10f762d93cfe...\n",
      "📦 Built wheel for CPython 3.10 to /Users/ryosuke.kamesawa.mot/.rustdef/target/wheels/rustdef_cell_10f762d93cfe32866893096dd797fbbe839e68e5-0.1.0-cp310-cp310-macosx_10_7_x86_64.whl\n",
      "Processing /Users/ryosuke.kamesawa.mot/.rustdef/target/wheels/rustdef_cell_10f762d93cfe32866893096dd797fbbe839e68e5-0.1.0-cp310-cp310-macosx_10_7_x86_64.whl\n",
      "Installing collected packages: rustdef-cell-10f762d93cfe32866893096dd797fbbe839e68e5\n",
      "Successfully installed rustdef-cell-10f762d93cfe32866893096dd797fbbe839e68e5-0.1.0\n"
     ]
    }
   ],
   "source": [
    "%%rustdef\n",
    "#[pyfunction]\n",
    "fn print_rep(x: u64, y: &str) -> String {\n",
    "    let mut s = String::new();\n",
    "    for _ in 0..x {\n",
    "        s.push_str(y)\n",
    "    }\n",
    "    println!(\"{}\", &s);\n",
    "    s\n",
    "}"
   ]
  },
  {
   "cell_type": "code",
   "execution_count": 8,
   "metadata": {},
   "outputs": [
    {
     "name": "stdout",
     "output_type": "stream",
     "text": [
      "hogehogehogehogehogehogehogehogehogehoge\n"
     ]
    },
    {
     "data": {
      "text/plain": [
       "'hogehogehogehogehogehogehogehogehogehoge'"
      ]
     },
     "execution_count": 8,
     "metadata": {},
     "output_type": "execute_result"
    }
   ],
   "source": [
    "print_rep(10, \"hoge\")"
   ]
  },
  {
   "cell_type": "code",
   "execution_count": 9,
   "metadata": {},
   "outputs": [],
   "source": [
    "def fib_py(n):\n",
    "    if n in [0, 1]:\n",
    "        return 1\n",
    "    return fib_py(n-1) + fib_py(n-2)"
   ]
  },
  {
   "cell_type": "code",
   "execution_count": 10,
   "metadata": {},
   "outputs": [
    {
     "name": "stdout",
     "output_type": "stream",
     "text": [
      "CPU times: user 338 ms, sys: 9 ms, total: 347 ms\n",
      "Wall time: 361 ms\n"
     ]
    },
    {
     "data": {
      "text/plain": [
       "1346269"
      ]
     },
     "execution_count": 10,
     "metadata": {},
     "output_type": "execute_result"
    }
   ],
   "source": [
    "%time fib_py(30)"
   ]
  },
  {
   "cell_type": "code",
   "execution_count": 11,
   "metadata": {},
   "outputs": [
    {
     "name": "stdout",
     "output_type": "stream",
     "text": [
      "Building..\n",
      "🔗 Found pyo3 bindings\n",
      "🐍 Found CPython 3.10 at /usr/local/anaconda3/envs/rustdef-py311/bin/python\n",
      "\u001b[0m\u001b[0m\u001b[1m\u001b[32m   Compiling\u001b[0m proc-macro2 v1.0.47\n",
      "\u001b[0m\u001b[0m\u001b[1m\u001b[32m   Compiling\u001b[0m unicode-ident v1.0.5\n",
      "\u001b[0m\u001b[0m\u001b[1m\u001b[32m   Compiling\u001b[0m quote v1.0.21\n",
      "\u001b[0m\u001b[0m\u001b[1m\u001b[32m   Compiling\u001b[0m proc-macro-hack v0.5.19\n",
      "\u001b[0m\u001b[0m\u001b[1m\u001b[32m   Compiling\u001b[0m syn v1.0.105\n",
      "\u001b[0m\u001b[0m\u001b[1m\u001b[32m   Compiling\u001b[0m pyo3-build-config v0.15.2\n",
      "\u001b[0m\u001b[0m\u001b[1m\u001b[32m   Compiling\u001b[0m once_cell v1.16.0\n",
      "\u001b[0m\u001b[0m\u001b[1m\u001b[32m   Compiling\u001b[0m autocfg v1.1.0\n",
      "\u001b[0m\u001b[0m\u001b[1m\u001b[32m   Compiling\u001b[0m libc v0.2.138\n",
      "\u001b[0m\u001b[0m\u001b[1m\u001b[32m   Compiling\u001b[0m parking_lot_core v0.8.5\n",
      "\u001b[0m\u001b[0m\u001b[1m\u001b[32m   Compiling\u001b[0m cfg-if v1.0.0\n",
      "\u001b[0m\u001b[0m\u001b[1m\u001b[32m   Compiling\u001b[0m smallvec v1.10.0\n",
      "\u001b[0m\u001b[0m\u001b[1m\u001b[32m   Compiling\u001b[0m scopeguard v1.1.0\n",
      "\u001b[0m\u001b[0m\u001b[1m\u001b[32m   Compiling\u001b[0m unindent v0.1.10\n",
      "\u001b[K\u001b[0m\u001b[0m\u001b[1m\u001b[32m   Compiling\u001b[0m instant v0.1.12           ] 0/44: proc-macro-hack(build.rs)...\n",
      "\u001b[K\u001b[0m\u001b[0m\u001b[1m\u001b[32m   Compiling\u001b[0m lock_api v0.4.9          ] 14/44: parking_lot_core(build), ......\n",
      "\u001b[K\u001b[0m\u001b[0m\u001b[1m\u001b[32m   Compiling\u001b[0m paste-impl v0.1.18          ] 25/44: proc-macro2, proc-macro-h...\n",
      "\u001b[K\u001b[0m\u001b[0m\u001b[1m\u001b[32m   Compiling\u001b[0m parking_lot v0.11.2      ] 29/44: syn, quote, paste-impl, p......\n",
      "\u001b[K\u001b[0m\u001b[0m\u001b[1m\u001b[32m   Compiling\u001b[0m pyo3 v0.15.2======>         ] 30/44: syn, paste-impl, pyo3-bui...\n",
      "\u001b[K\u001b[0m\u001b[0m\u001b[1m\u001b[32m   Compiling\u001b[0m paste v0.1.18======>        ] 32/44: syn, pyo3(build.rs), past...\n",
      "\u001b[K\u001b[0m\u001b[0m\u001b[1m\u001b[32m   Compiling\u001b[0m pyo3-macros-backend v0.15.237/44: syn                            \n",
      "\u001b[K\u001b[0m\u001b[0m\u001b[1m\u001b[32m   Compiling\u001b[0m indoc-impl v0.3.6=====>     ] 37/44: syn, pyo3-macros-backend    \n",
      "\u001b[K\u001b[0m\u001b[0m\u001b[1m\u001b[32m   Compiling\u001b[0m indoc v0.3.6===========>    ] 38/44: indoc-impl, pyo3-macros-b...\n",
      "\u001b[K\u001b[0m\u001b[0m\u001b[1m\u001b[32m   Compiling\u001b[0m pyo3-macros v0.15.2=====>   ] 40/44: pyo3-macros-backend         \n",
      "\u001b[K\u001b[0m\u001b[0m\u001b[1m\u001b[32m   Compiling\u001b[0m rustdef_cell_f6d2abde44fc8218265931959f6fc38cfac0de67 v0.1.0 (/Users/ryosuke.kamesawa.mot/.rustdef/rustdef_cell_f6d2abde44fc8218265931959f6fc38cfac0de67)\n",
      "\u001b[K\u001b[0m\u001b[0m\u001b[1m\u001b[32m    Finished\u001b[0m release [optimized] target(s) in 22.12sstdef_cell_f6d2abde44fc...\n",
      "📦 Built wheel for CPython 3.10 to /Users/ryosuke.kamesawa.mot/.rustdef/target/wheels/rustdef_cell_f6d2abde44fc8218265931959f6fc38cfac0de67-0.1.0-cp310-cp310-macosx_10_7_x86_64.whl\n",
      "Processing /Users/ryosuke.kamesawa.mot/.rustdef/target/wheels/rustdef_cell_f6d2abde44fc8218265931959f6fc38cfac0de67-0.1.0-cp310-cp310-macosx_10_7_x86_64.whl\n",
      "Installing collected packages: rustdef-cell-f6d2abde44fc8218265931959f6fc38cfac0de67\n",
      "Successfully installed rustdef-cell-f6d2abde44fc8218265931959f6fc38cfac0de67-0.1.0\n"
     ]
    }
   ],
   "source": [
    "%%rustdef --release\n",
    "#[pyfunction]\n",
    "fn fib_rs(n: i64) -> i64 {\n",
    "    if n == 0 || n == 1 {\n",
    "        1\n",
    "    } else {\n",
    "        fib_rs(n-1) + fib_rs(n-2)\n",
    "    }\n",
    "}"
   ]
  },
  {
   "cell_type": "code",
   "execution_count": 12,
   "metadata": {},
   "outputs": [
    {
     "name": "stdout",
     "output_type": "stream",
     "text": [
      "CPU times: user 4.72 ms, sys: 1.58 ms, total: 6.3 ms\n",
      "Wall time: 5.28 ms\n"
     ]
    },
    {
     "data": {
      "text/plain": [
       "1346269"
      ]
     },
     "execution_count": 12,
     "metadata": {},
     "output_type": "execute_result"
    }
   ],
   "source": [
    "%time fib_rs(30)"
   ]
  },
  {
   "cell_type": "code",
   "execution_count": 13,
   "metadata": {},
   "outputs": [
    {
     "name": "stdout",
     "output_type": "stream",
     "text": [
      "Building..\n",
      "🔗 Found pyo3 bindings\n",
      "🐍 Found CPython 3.10 at /usr/local/anaconda3/envs/rustdef-py311/bin/python\n",
      "\u001b[0m\u001b[0m\u001b[1m\u001b[32m   Compiling\u001b[0m rustdef_cell_74b5e080ae84820de49606e34b2de13489af1cba v0.1.0 (/Users/ryosuke.kamesawa.mot/.rustdef/rustdef_cell_74b5e080ae84820de49606e34b2de13489af1cba)\n",
      "\u001b[K\u001b[0m\u001b[0m\u001b[1m\u001b[32m    Finished\u001b[0m dev [unoptimized + debuginfo] target(s) in 0.92sl_74b5e080ae84...\n",
      "📦 Built wheel for CPython 3.10 to /Users/ryosuke.kamesawa.mot/.rustdef/target/wheels/rustdef_cell_74b5e080ae84820de49606e34b2de13489af1cba-0.1.0-cp310-cp310-macosx_10_7_x86_64.whl\n",
      "Processing /Users/ryosuke.kamesawa.mot/.rustdef/target/wheels/rustdef_cell_74b5e080ae84820de49606e34b2de13489af1cba-0.1.0-cp310-cp310-macosx_10_7_x86_64.whl\n",
      "Installing collected packages: rustdef-cell-74b5e080ae84820de49606e34b2de13489af1cba\n",
      "Successfully installed rustdef-cell-74b5e080ae84820de49606e34b2de13489af1cba-0.1.0\n"
     ]
    }
   ],
   "source": [
    "%%rustdef\n",
    "use std::fs;\n",
    "\n",
    "#[pyfunction]\n",
    "fn open_error() -> PyResult<()> {\n",
    "    let _f = fs::File::open(\"foo\")?;\n",
    "    Ok(())\n",
    "}"
   ]
  },
  {
   "cell_type": "code",
   "execution_count": 14,
   "metadata": {},
   "outputs": [
    {
     "name": "stdout",
     "output_type": "stream",
     "text": [
      "No such file or directory (os error 2)\n"
     ]
    }
   ],
   "source": [
    "try:\n",
    "    open_error()\n",
    "except FileNotFoundError as e:\n",
    "    print(e)\n",
    "    pass\n",
    "else:\n",
    "    assert False"
   ]
  },
  {
   "cell_type": "code",
   "execution_count": null,
   "metadata": {},
   "outputs": [],
   "source": []
  }
 ],
 "metadata": {
  "kernelspec": {
   "display_name": "Python 3.10.8 ('rustdef-py311')",
   "language": "python",
   "name": "python3"
  },
  "language_info": {
   "codemirror_mode": {
    "name": "ipython",
    "version": 3
   },
   "file_extension": ".py",
   "mimetype": "text/x-python",
   "name": "python",
   "nbconvert_exporter": "python",
   "pygments_lexer": "ipython3",
   "version": "3.10.8"
  },
  "vscode": {
   "interpreter": {
    "hash": "f8dcfc3d906748263a40e5d6ba00c4996e04c52d55a479efc85947097aceee5d"
   }
  }
 },
 "nbformat": 4,
 "nbformat_minor": 2
}

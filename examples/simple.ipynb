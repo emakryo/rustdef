{
 "cells": [
  {
   "cell_type": "code",
   "execution_count": 1,
   "metadata": {
    "scrolled": true
   },
   "outputs": [
    {
     "name": "stdout",
     "output_type": "stream",
     "text": [
      "load rustdef\n"
     ]
    },
    {
     "data": {
      "application/javascript": [
       "\n",
       "require(['notebook/js/codecell'], function(codecell) {\n",
       "    codecell.CodeCell.options_default.highlight_modes['text/x-rustsrc']\n",
       "        = {'reg':[/^%%rustdef/]} ;\n",
       "    Jupyter.notebook.events.one('kernel_ready.Kernel', function(){\n",
       "        Jupyter.notebook.get_cells().map(function(cell){\n",
       "        if (cell.cell_type == 'code'){ cell.auto_highlight(); } }) ;\n",
       "    });\n",
       "});\n"
      ],
      "text/plain": [
       "<IPython.core.display.Javascript object>"
      ]
     },
     "metadata": {},
     "output_type": "display_data"
    }
   ],
   "source": [
    "%load_ext rustdef"
   ]
  },
  {
   "cell_type": "code",
   "execution_count": 2,
   "metadata": {},
   "outputs": [
    {
     "name": "stdout",
     "output_type": "stream",
     "text": [
      "usage: %%rustdef [-h] [--force-rebuild] [--debug]\n",
      "\n",
      "Define rust functions in notebook cells. Functions with #[pyfunction] are\n",
      "available in python\n",
      "\n",
      "optional arguments:\n",
      "  -h, --help       show this help message and exit\n",
      "  --force-rebuild  Build code even if there exists cache\n",
      "  --debug          Build with debug profile. (release profile by default)\n"
     ]
    }
   ],
   "source": [
    "%%rustdef --help\n",
    "\n"
   ]
  },
  {
   "cell_type": "code",
   "execution_count": 3,
   "metadata": {},
   "outputs": [
    {
     "name": "stdout",
     "output_type": "stream",
     "text": [
      "Use previous build\n"
     ]
    }
   ],
   "source": [
    "%%rustdef\n",
    "\n",
    "#[pyfunction]\n",
    "fn sum_str(a: usize, b: usize) -> String {\n",
    "    (a + b).to_string()\n",
    "}"
   ]
  },
  {
   "cell_type": "code",
   "execution_count": 4,
   "metadata": {
    "scrolled": true
   },
   "outputs": [
    {
     "data": {
      "text/plain": [
       "'4'"
      ]
     },
     "execution_count": 4,
     "metadata": {},
     "output_type": "execute_result"
    }
   ],
   "source": [
    "sum_str(1, 3)"
   ]
  },
  {
   "cell_type": "code",
   "execution_count": 5,
   "metadata": {},
   "outputs": [
    {
     "name": "stdout",
     "output_type": "stream",
     "text": [
      "Building..\n",
      "🔗 Found pyo3 bindings\n",
      "🐍 Found CPython 3.7m at python3.7\n",
      "\u001b[0m\u001b[0m\u001b[1m\u001b[32m   Compiling\u001b[0m rustdef v0.1.0 (/Users/ryosuke.kamesawa/.rustdef/rustdef)\n",
      "\u001b[K\u001b[0m\u001b[0m\u001b[1m\u001b[32m   Compiling\u001b[0m rustdef_cell_9c8894af3dfe208a7fbd7c1fc30486d509d1d90a v0.1.0 (/Users/ryosuke.kamesawa/.rustdef/rustdef_cell_9c8894af3dfe208a7fbd7c1fc30486d509d1d90a)\n",
      "\u001b[K\u001b[0m\u001b[0m\u001b[1m\u001b[32m    Finished\u001b[0m release [optimized] target(s) in 0.74s==================> ] 79/80\n",
      "📦 Built wheel for CPython 3.7m to /Users/ryosuke.kamesawa/.rustdef/target/wheels/rustdef_cell_9c8894af3dfe208a7fbd7c1fc30486d509d1d90a-0.1.0-cp37-cp37m-macosx_10_7_x86_64.whl\n"
     ]
    }
   ],
   "source": [
    "%%rustdef\n",
    "\n",
    "#[pyfunction]\n",
    "fn sum_str(a: usize, b: usize) -> String {\n",
    "    format!(\"0x{:x}\", a + b)\n",
    "}"
   ]
  },
  {
   "cell_type": "code",
   "execution_count": 6,
   "metadata": {
    "scrolled": true
   },
   "outputs": [
    {
     "data": {
      "text/plain": [
       "'0xd'"
      ]
     },
     "execution_count": 6,
     "metadata": {},
     "output_type": "execute_result"
    }
   ],
   "source": [
    "sum_str(10, 3)"
   ]
  },
  {
   "cell_type": "code",
   "execution_count": 7,
   "metadata": {},
   "outputs": [
    {
     "name": "stdout",
     "output_type": "stream",
     "text": [
      "Building..\n",
      "🔗 Found pyo3 bindings\n",
      "🐍 Found CPython 3.7m at python3.7\n",
      "\u001b[0m\u001b[0m\u001b[1m\u001b[32m   Compiling\u001b[0m rustdef_cell_638cd1348315bfb7b7898fa8f8416130b5b0d215 v0.1.0 (/Users/ryosuke.kamesawa/.rustdef/rustdef_cell_638cd1348315bfb7b7898fa8f8416130b5b0d215)\n",
      "\u001b[K\u001b[0m\u001b[0m\u001b[1m\u001b[32m    Finished\u001b[0m release [optimized] target(s) in 0.48s==================> ] 79/80\n",
      "📦 Built wheel for CPython 3.7m to /Users/ryosuke.kamesawa/.rustdef/target/wheels/rustdef_cell_638cd1348315bfb7b7898fa8f8416130b5b0d215-0.1.0-cp37-cp37m-macosx_10_7_x86_64.whl\n"
     ]
    }
   ],
   "source": [
    "%%rustdef\n",
    "#[pyfunction]\n",
    "fn my_func(x: i64, y: &str) -> i64 {\n",
    "    println!(\"{}\", y);\n",
    "    x + y.len() as i64\n",
    "}"
   ]
  },
  {
   "cell_type": "code",
   "execution_count": 8,
   "metadata": {},
   "outputs": [
    {
     "name": "stdout",
     "output_type": "stream",
     "text": [
      "foooabar\n"
     ]
    },
    {
     "data": {
      "text/plain": [
       "108"
      ]
     },
     "execution_count": 8,
     "metadata": {},
     "output_type": "execute_result"
    }
   ],
   "source": [
    "my_func(100, \"foooabar\")"
   ]
  },
  {
   "cell_type": "code",
   "execution_count": 9,
   "metadata": {},
   "outputs": [],
   "source": [
    "def fib_py(n):\n",
    "    a = 1\n",
    "    b = 0\n",
    "    for i in range(n):\n",
    "        t = a+b\n",
    "        b = a\n",
    "        a = t % 1000000007\n",
    "    return b"
   ]
  },
  {
   "cell_type": "code",
   "execution_count": 10,
   "metadata": {},
   "outputs": [
    {
     "name": "stdout",
     "output_type": "stream",
     "text": [
      "CPU times: user 13.7 ms, sys: 843 µs, total: 14.6 ms\n",
      "Wall time: 15.8 ms\n"
     ]
    },
    {
     "data": {
      "text/plain": [
       "911435502"
      ]
     },
     "execution_count": 10,
     "metadata": {},
     "output_type": "execute_result"
    }
   ],
   "source": [
    "%time fib_py(100000)"
   ]
  },
  {
   "cell_type": "code",
   "execution_count": 11,
   "metadata": {},
   "outputs": [
    {
     "name": "stdout",
     "output_type": "stream",
     "text": [
      "Building..\n",
      "🔗 Found pyo3 bindings\n",
      "🐍 Found CPython 3.7m at python3.7\n",
      "\u001b[0m\u001b[0m\u001b[1m\u001b[32m   Compiling\u001b[0m rustdef_cell_a407ce5fe61ffc9e8063d6f7b4835408e4357acc v0.1.0 (/Users/ryosuke.kamesawa/.rustdef/rustdef_cell_a407ce5fe61ffc9e8063d6f7b4835408e4357acc)\n",
      "warning: unused variable: `i`ing\u001b[0m [=======================================================> ] 79/80\n",
      "  --> rustdef_cell_a407ce5fe61ffc9e8063d6f7b4835408e4357acc/src/lib.rs:16:9\n",
      "   |\n",
      "16 |     for i in 0..n {\n",
      "   |         ^ help: consider prefixing with an underscore: `_i`\n",
      "   |\n",
      "   = note: `#[warn(unused_variables)]` on by default\n",
      "\n",
      "\n",
      "\u001b[K\u001b[0m\u001b[0m\u001b[1m\u001b[32m    Finished\u001b[0m release [optimized] target(s) in 0.49s==================> ] 79/80\n",
      "📦 Built wheel for CPython 3.7m to /Users/ryosuke.kamesawa/.rustdef/target/wheels/rustdef_cell_a407ce5fe61ffc9e8063d6f7b4835408e4357acc-0.1.0-cp37-cp37m-macosx_10_7_x86_64.whl\n"
     ]
    }
   ],
   "source": [
    "%%rustdef\n",
    "#[pyfunction]\n",
    "fn fib_rs(n: i64) -> i64 {\n",
    "    let mut a = 1;\n",
    "    let mut b = 0;\n",
    "    for i in 0..n {\n",
    "        let t = a+b;\n",
    "        b = a;\n",
    "        a = t % 1000000007;\n",
    "    }\n",
    "    b\n",
    "}"
   ]
  },
  {
   "cell_type": "code",
   "execution_count": 12,
   "metadata": {},
   "outputs": [
    {
     "name": "stdout",
     "output_type": "stream",
     "text": [
      "CPU times: user 1.15 ms, sys: 1.66 ms, total: 2.8 ms\n",
      "Wall time: 2.55 ms\n"
     ]
    },
    {
     "data": {
      "text/plain": [
       "911435502"
      ]
     },
     "execution_count": 12,
     "metadata": {},
     "output_type": "execute_result"
    }
   ],
   "source": [
    "%time fib_rs(100000)"
   ]
  },
  {
   "cell_type": "code",
   "execution_count": 13,
   "metadata": {},
   "outputs": [
    {
     "name": "stdout",
     "output_type": "stream",
     "text": [
      "Building..\n",
      "🔗 Found pyo3 bindings\n",
      "🐍 Found CPython 3.7m at python3.7\n",
      "\u001b[0m\u001b[0m\u001b[1m\u001b[32m   Compiling\u001b[0m rustdef_cell_74b5e080ae84820de49606e34b2de13489af1cba v0.1.0 (/Users/ryosuke.kamesawa/.rustdef/rustdef_cell_74b5e080ae84820de49606e34b2de13489af1cba)\n",
      "\u001b[K\u001b[0m\u001b[0m\u001b[1m\u001b[32m    Finished\u001b[0m release [optimized] target(s) in 0.54s==================> ] 79/80\n",
      "📦 Built wheel for CPython 3.7m to /Users/ryosuke.kamesawa/.rustdef/target/wheels/rustdef_cell_74b5e080ae84820de49606e34b2de13489af1cba-0.1.0-cp37-cp37m-macosx_10_7_x86_64.whl\n"
     ]
    }
   ],
   "source": [
    "%%rustdef\n",
    "use std::fs;\n",
    "\n",
    "#[pyfunction]\n",
    "fn open_error() -> PyResult<()> {\n",
    "    let _f = fs::File::open(\"foo\")?;\n",
    "    Ok(())\n",
    "}"
   ]
  },
  {
   "cell_type": "code",
   "execution_count": 14,
   "metadata": {},
   "outputs": [
    {
     "name": "stdout",
     "output_type": "stream",
     "text": [
      "No such file or directory (os error 2)\n"
     ]
    }
   ],
   "source": [
    "try:\n",
    "    open_error()\n",
    "except FileNotFoundError as e:\n",
    "    print(e)\n",
    "    pass\n",
    "else:\n",
    "    assert False"
   ]
  },
  {
   "cell_type": "code",
   "execution_count": null,
   "metadata": {},
   "outputs": [],
   "source": []
  }
 ],
 "metadata": {
  "kernelspec": {
   "display_name": "Python 3",
   "language": "python",
   "name": "python3"
  },
  "language_info": {
   "codemirror_mode": {
    "name": "ipython",
    "version": 3
   },
   "file_extension": ".py",
   "mimetype": "text/x-python",
   "name": "python",
   "nbconvert_exporter": "python",
   "pygments_lexer": "ipython3",
   "version": "3.7.6"
  }
 },
 "nbformat": 4,
 "nbformat_minor": 2
}

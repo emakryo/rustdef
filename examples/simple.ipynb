{
 "cells": [
  {
   "cell_type": "code",
   "execution_count": 1,
   "metadata": {
    "scrolled": true
   },
   "outputs": [
    {
     "name": "stdout",
     "output_type": "stream",
     "text": [
      "load rustdef\n"
     ]
    }
   ],
   "source": [
    "%load_ext rustdef"
   ]
  },
  {
   "cell_type": "code",
   "execution_count": null,
   "metadata": {},
   "outputs": [
    {
     "name": "stdout",
     "output_type": "stream",
     "text": [
      "Building..\n",
      "🔗 Found pyo3 bindings\n",
      "🐍 Found CPython 3.7m at python3.7\n",
      "\u001b[0m\u001b[0m\u001b[1m\u001b[32m   Compiling\u001b[0m rustdef v0.1.0 (/Users/ryosuke.kamesawa/Develop/rustdef/examples/.rustdef/rustdef)\n",
      "\u001b[0m\u001b[0m\u001b[1m\u001b[36m    Building\u001b[0m [======================================================>  ] 78/80\r"
     ]
    }
   ],
   "source": [
    "%%rustdef\n",
    "use std::fs;\n",
    "\n",
    "#[pyfunction]\n",
    "fn sum_str(a: usize, b: usize) -> PyResult<String> {\n",
    "    Ok((a + b).to_string())\n",
    "}"
   ]
  },
  {
   "cell_type": "code",
   "execution_count": null,
   "metadata": {
    "scrolled": true
   },
   "outputs": [],
   "source": [
    "sum_str(1, 3)"
   ]
  },
  {
   "cell_type": "code",
   "execution_count": null,
   "metadata": {},
   "outputs": [],
   "source": [
    "%%rustdef\n",
    "\n",
    "#[pyfunction]\n",
    "fn sum_str(a: usize, b: usize) -> PyResult<String> {\n",
    "    Ok(format!(\"0x{:x}\", a + b))\n",
    "}"
   ]
  },
  {
   "cell_type": "code",
   "execution_count": null,
   "metadata": {
    "scrolled": true
   },
   "outputs": [],
   "source": [
    "sum_str(10, 3)"
   ]
  },
  {
   "cell_type": "code",
   "execution_count": null,
   "metadata": {},
   "outputs": [],
   "source": [
    "%%rustdef\n",
    "#[pyfunction]\n",
    "fn my_func(x: i64, y: &str) -> i64 {\n",
    "    println!(\"{}\", y);\n",
    "    x + y.len() as i64\n",
    "}"
   ]
  },
  {
   "cell_type": "code",
   "execution_count": null,
   "metadata": {},
   "outputs": [],
   "source": [
    "my_func(100, \"foooabar\")"
   ]
  },
  {
   "cell_type": "code",
   "execution_count": null,
   "metadata": {},
   "outputs": [],
   "source": [
    "def fib_py(n):\n",
    "    a = 1\n",
    "    b = 0\n",
    "    for i in range(n):\n",
    "        t = a+b\n",
    "        b = a\n",
    "        a = t % 1000000007\n",
    "    return b"
   ]
  },
  {
   "cell_type": "code",
   "execution_count": null,
   "metadata": {},
   "outputs": [],
   "source": [
    "%time fib_py(10)"
   ]
  },
  {
   "cell_type": "code",
   "execution_count": null,
   "metadata": {},
   "outputs": [],
   "source": [
    "%%rustdef\n",
    "#[pyfunction]\n",
    "fn fib_rs(n: i64) -> i64 {\n",
    "    let mut a = 1;\n",
    "    let mut b = 0;\n",
    "    for i in 0..n {\n",
    "        let t = a+b;\n",
    "        b = a;\n",
    "        a = t % 1000000007;\n",
    "    }\n",
    "    b\n",
    "}"
   ]
  },
  {
   "cell_type": "code",
   "execution_count": null,
   "metadata": {},
   "outputs": [],
   "source": [
    "%time fib_rs(10)"
   ]
  },
  {
   "cell_type": "code",
   "execution_count": null,
   "metadata": {},
   "outputs": [],
   "source": [
    "%%rustdef\n",
    "use std::fs;\n",
    "\n",
    "#[pyfunction]\n",
    "fn open_error() -> PyResult<()> {\n",
    "    let _f = fs::File::open(\"foo\")?;\n",
    "    Ok(())\n",
    "}"
   ]
  },
  {
   "cell_type": "code",
   "execution_count": null,
   "metadata": {},
   "outputs": [],
   "source": [
    "open_error()"
   ]
  },
  {
   "cell_type": "code",
   "execution_count": null,
   "metadata": {},
   "outputs": [],
   "source": []
  }
 ],
 "metadata": {
  "kernelspec": {
   "display_name": "Python 3",
   "language": "python",
   "name": "python3"
  },
  "language_info": {
   "codemirror_mode": {
    "name": "ipython",
    "version": 3
   },
   "file_extension": ".py",
   "mimetype": "text/x-python",
   "name": "python",
   "nbconvert_exporter": "python",
   "pygments_lexer": "ipython3",
   "version": "3.7.6"
  }
 },
 "nbformat": 4,
 "nbformat_minor": 2
}

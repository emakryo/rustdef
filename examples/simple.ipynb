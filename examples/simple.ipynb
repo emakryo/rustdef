{
 "cells": [
  {
   "cell_type": "code",
   "execution_count": 1,
   "metadata": {
    "scrolled": true
   },
   "outputs": [
    {
     "name": "stdout",
     "output_type": "stream",
     "text": [
      "load rustdef\n"
     ]
    }
   ],
   "source": [
    "%load_ext rustdef"
   ]
  },
  {
   "cell_type": "code",
   "execution_count": 2,
   "metadata": {},
   "outputs": [
    {
     "name": "stdout",
     "output_type": "stream",
     "text": [
      "Building..\n",
      "🔗 Found pyo3 bindings\n",
      "🐍 Found CPython 3.7m at python3.7\n",
      "\u001b[0m\u001b[0m\u001b[1m\u001b[32m   Compiling\u001b[0m rustdef v0.1.0 (/Users/ryosuke.kamesawa/Develop/rustdef/examples/.rustdef/rustdef)\n",
      "\u001b[K\u001b[0m\u001b[0m\u001b[1m\u001b[32m   Compiling\u001b[0m rustdef_cell_b47927bd05506791984c631b5c83409d325df0af v0.1.0 (/Users/ryosuke.kamesawa/Develop/rustdef/examples/.rustdef/rustdef_cell_b47927bd05506791984c631b5c83409d325df0af)\n",
      "\u001b[K\u001b[0m\u001b[0m\u001b[1m\u001b[32m    Finished\u001b[0m release [optimized] target(s) in 5.57s==================> ] 79/80\n",
      "📦 Built wheel for CPython 3.7m to /Users/ryosuke.kamesawa/Develop/rustdef/examples/.rustdef/target/wheels/rustdef_cell_b47927bd05506791984c631b5c83409d325df0af-0.1.0-cp37-cp37m-macosx_10_7_x86_64.whl\n"
     ]
    }
   ],
   "source": [
    "%%rustdef\n",
    "\n",
    "#[pyfunction]\n",
    "fn sum_str(a: usize, b: usize) -> PyResult<String> {\n",
    "    Ok((a + b).to_string())\n",
    "}"
   ]
  },
  {
   "cell_type": "code",
   "execution_count": 3,
   "metadata": {
    "scrolled": true
   },
   "outputs": [
    {
     "data": {
      "text/plain": [
       "'4'"
      ]
     },
     "execution_count": 3,
     "metadata": {},
     "output_type": "execute_result"
    }
   ],
   "source": [
    "sum_str(1, 3)"
   ]
  },
  {
   "cell_type": "code",
   "execution_count": 4,
   "metadata": {},
   "outputs": [
    {
     "name": "stdout",
     "output_type": "stream",
     "text": [
      "Use previous build\n"
     ]
    }
   ],
   "source": [
    "%%rustdef\n",
    "\n",
    "#[pyfunction]\n",
    "fn sum_str(a: usize, b: usize) -> PyResult<String> {\n",
    "    Ok(format!(\"0x{:x}\", a + b))\n",
    "}"
   ]
  },
  {
   "cell_type": "code",
   "execution_count": 5,
   "metadata": {
    "scrolled": true
   },
   "outputs": [
    {
     "data": {
      "text/plain": [
       "'0xd'"
      ]
     },
     "execution_count": 5,
     "metadata": {},
     "output_type": "execute_result"
    }
   ],
   "source": [
    "sum_str(10, 3)"
   ]
  },
  {
   "cell_type": "code",
   "execution_count": 6,
   "metadata": {},
   "outputs": [
    {
     "name": "stdout",
     "output_type": "stream",
     "text": [
      "Use previous build\n"
     ]
    }
   ],
   "source": [
    "%%rustdef\n",
    "#[pyfunction]\n",
    "fn my_func(x: i64, y: &str) -> i64 {\n",
    "    println!(\"{}\", y);\n",
    "    x + y.len() as i64\n",
    "}"
   ]
  },
  {
   "cell_type": "code",
   "execution_count": 7,
   "metadata": {},
   "outputs": [
    {
     "name": "stdout",
     "output_type": "stream",
     "text": [
      "foooabar\n"
     ]
    },
    {
     "data": {
      "text/plain": [
       "108"
      ]
     },
     "execution_count": 7,
     "metadata": {},
     "output_type": "execute_result"
    }
   ],
   "source": [
    "my_func(100, \"foooabar\")"
   ]
  },
  {
   "cell_type": "code",
   "execution_count": 8,
   "metadata": {},
   "outputs": [],
   "source": [
    "def fib_py(n):\n",
    "    a = 1\n",
    "    b = 0\n",
    "    for i in range(n):\n",
    "        t = a+b\n",
    "        b = a\n",
    "        a = t % 1000000007\n",
    "    return b"
   ]
  },
  {
   "cell_type": "code",
   "execution_count": 9,
   "metadata": {},
   "outputs": [
    {
     "name": "stdout",
     "output_type": "stream",
     "text": [
      "CPU times: user 6 µs, sys: 0 ns, total: 6 µs\n",
      "Wall time: 10 µs\n"
     ]
    },
    {
     "data": {
      "text/plain": [
       "55"
      ]
     },
     "execution_count": 9,
     "metadata": {},
     "output_type": "execute_result"
    }
   ],
   "source": [
    "%time fib_py(10)"
   ]
  },
  {
   "cell_type": "code",
   "execution_count": 10,
   "metadata": {},
   "outputs": [
    {
     "name": "stdout",
     "output_type": "stream",
     "text": [
      "Use previous build\n"
     ]
    }
   ],
   "source": [
    "%%rustdef\n",
    "#[pyfunction]\n",
    "fn fib_rs(n: i64) -> i64 {\n",
    "    let mut a = 1;\n",
    "    let mut b = 0;\n",
    "    for i in 0..n {\n",
    "        let t = a+b;\n",
    "        b = a;\n",
    "        a = t % 1000000007;\n",
    "    }\n",
    "    b\n",
    "}"
   ]
  },
  {
   "cell_type": "code",
   "execution_count": 11,
   "metadata": {},
   "outputs": [
    {
     "name": "stdout",
     "output_type": "stream",
     "text": [
      "CPU times: user 751 µs, sys: 1.23 ms, total: 1.98 ms\n",
      "Wall time: 2.46 ms\n"
     ]
    },
    {
     "data": {
      "text/plain": [
       "55"
      ]
     },
     "execution_count": 11,
     "metadata": {},
     "output_type": "execute_result"
    }
   ],
   "source": [
    "%time fib_rs(10)"
   ]
  },
  {
   "cell_type": "code",
   "execution_count": 12,
   "metadata": {},
   "outputs": [
    {
     "name": "stdout",
     "output_type": "stream",
     "text": [
      "Use previous build\n"
     ]
    }
   ],
   "source": [
    "%%rustdef\n",
    "use std::fs;\n",
    "\n",
    "#[pyfunction]\n",
    "fn open_error() -> PyResult<()> {\n",
    "    let _f = fs::File::open(\"foo\")?;\n",
    "    Ok(())\n",
    "}"
   ]
  },
  {
   "cell_type": "code",
   "execution_count": 15,
   "metadata": {},
   "outputs": [
    {
     "name": "stdout",
     "output_type": "stream",
     "text": [
      "No such file or directory (os error 2)\n"
     ]
    }
   ],
   "source": [
    "try:\n",
    "    open_error()\n",
    "except FileNotFoundError as e:\n",
    "    print(e)\n",
    "    pass\n",
    "else:\n",
    "    assert False"
   ]
  },
  {
   "cell_type": "code",
   "execution_count": null,
   "metadata": {},
   "outputs": [],
   "source": []
  }
 ],
 "metadata": {
  "kernelspec": {
   "display_name": "Python 3",
   "language": "python",
   "name": "python3"
  },
  "language_info": {
   "codemirror_mode": {
    "name": "ipython",
    "version": 3
   },
   "file_extension": ".py",
   "mimetype": "text/x-python",
   "name": "python",
   "nbconvert_exporter": "python",
   "pygments_lexer": "ipython3",
   "version": "3.7.6"
  }
 },
 "nbformat": 4,
 "nbformat_minor": 2
}

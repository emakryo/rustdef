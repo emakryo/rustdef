{
 "cells": [
  {
   "cell_type": "code",
   "execution_count": 1,
   "metadata": {},
   "outputs": [
    {
     "name": "stdout",
     "output_type": "stream",
     "text": [
      "load rustdef\n"
     ]
    },
    {
     "data": {
      "application/javascript": [
       "\n",
       "require(['notebook/js/codecell'], function(codecell) {\n",
       "    codecell.CodeCell.options_default.highlight_modes['text/x-rustsrc'] = {'reg':[/^%%rustdef/]} ;\n",
       "    Jupyter.notebook.events.one('kernel_ready.Kernel', function(){\n",
       "        jupyter.notebook.get_cells().map(function(cell){\n",
       "        if (cell.cell_type == 'code'){ cell.auto_highlight(); } }) ;\n",
       "    });\n",
       "});\n"
      ],
      "text/plain": [
       "<IPython.core.display.Javascript object>"
      ]
     },
     "metadata": {},
     "output_type": "display_data"
    }
   ],
   "source": [
    "%load_ext rustdef"
   ]
  },
  {
   "cell_type": "code",
   "execution_count": 2,
   "metadata": {},
   "outputs": [],
   "source": [
    "def should_raise(exception, f, args):\n",
    "    try:\n",
    "        f(*args)\n",
    "    except exception as e:\n",
    "        print(e)\n",
    "    else:\n",
    "        raise RuntimeError(\"expected exception not raise\")"
   ]
  },
  {
   "cell_type": "markdown",
   "metadata": {},
   "source": [
    "# Integer\n",
    "\n",
    "- Every interger type in rust (`i64, i32, u64, u32, isize, usize`) is compatible with python `int`.\n",
    "- Functions with interger arguments may raise `OverflowError` because python's `int` is bignum."
   ]
  },
  {
   "cell_type": "code",
   "execution_count": 3,
   "metadata": {},
   "outputs": [
    {
     "name": "stdout",
     "output_type": "stream",
     "text": [
      "Use previous build\n"
     ]
    }
   ],
   "source": [
    "%%rustdef\n",
    "use pyo3::types::PyInt;\n",
    "\n",
    "#[pyfunction]\n",
    "fn integer(int64: i64, int32: i32, uint64: u64, uint32: u32, int_size: isize, uint_size: usize, py_int: &PyInt) -> (i64, i32, u64, u32, isize, usize) {\n",
    "    dbg!(int64);\n",
    "    dbg!(int32);\n",
    "    dbg!(uint64);\n",
    "    dbg!(uint32);\n",
    "    dbg!(int_size);\n",
    "    dbg!(uint_size);\n",
    "    dbg!(py_int);\n",
    "    (int64 + 1, int32 + 1, uint64 + 1, uint32 + 1, int_size + 1, uint_size + 1)\n",
    "}"
   ]
  },
  {
   "cell_type": "code",
   "execution_count": 4,
   "metadata": {},
   "outputs": [
    {
     "name": "stdout",
     "output_type": "stream",
     "text": [
      "[rustdef_cell_375831073c4f95b3af097c1645d99649dacef238/src/lib.rs:16] int64 = 1\n",
      "[rustdef_cell_375831073c4f95b3af097c1645d99649dacef238/src/lib.rs:17] int32 = 1\n",
      "[rustdef_cell_375831073c4f95b3af097c1645d99649dacef238/src/lib.rs:18] uint64 = 1\n",
      "[rustdef_cell_375831073c4f95b3af097c1645d99649dacef238/src/lib.rs:19] uint32 = 1\n",
      "[rustdef_cell_375831073c4f95b3af097c1645d99649dacef238/src/lib.rs:20] int_size = 1\n",
      "[rustdef_cell_375831073c4f95b3af097c1645d99649dacef238/src/lib.rs:21] uint_size = 1\n",
      "[rustdef_cell_375831073c4f95b3af097c1645d99649dacef238/src/lib.rs:22] py_int = 1\n"
     ]
    },
    {
     "data": {
      "text/plain": [
       "(2, 2, 2, 2, 2, 2)"
      ]
     },
     "execution_count": 4,
     "metadata": {},
     "output_type": "execute_result"
    }
   ],
   "source": [
    "integer(1, 1, 1, 1, 1, 1, 1)"
   ]
  },
  {
   "cell_type": "code",
   "execution_count": 5,
   "metadata": {},
   "outputs": [
    {
     "name": "stdout",
     "output_type": "stream",
     "text": [
      "can't convert negative int to unsigned\n"
     ]
    }
   ],
   "source": [
    "should_raise(OverflowError, integer, (-1, -1, -1, -1, -1, -1, -1))"
   ]
  },
  {
   "cell_type": "code",
   "execution_count": 6,
   "metadata": {},
   "outputs": [
    {
     "name": "stdout",
     "output_type": "stream",
     "text": [
      "[rustdef_cell_375831073c4f95b3af097c1645d99649dacef238/src/lib.rs:16] int64 = -1\n",
      "[rustdef_cell_375831073c4f95b3af097c1645d99649dacef238/src/lib.rs:17] int32 = -1\n",
      "[rustdef_cell_375831073c4f95b3af097c1645d99649dacef238/src/lib.rs:18] uint64 = 0\n",
      "[rustdef_cell_375831073c4f95b3af097c1645d99649dacef238/src/lib.rs:19] uint32 = 0\n",
      "[rustdef_cell_375831073c4f95b3af097c1645d99649dacef238/src/lib.rs:20] int_size = -1\n",
      "[rustdef_cell_375831073c4f95b3af097c1645d99649dacef238/src/lib.rs:21] uint_size = 0\n",
      "[rustdef_cell_375831073c4f95b3af097c1645d99649dacef238/src/lib.rs:22] py_int = -1\n"
     ]
    },
    {
     "data": {
      "text/plain": [
       "(0, 0, 1, 1, 0, 1)"
      ]
     },
     "execution_count": 6,
     "metadata": {},
     "output_type": "execute_result"
    }
   ],
   "source": [
    "integer(-1, -1, 0, 0, -1, 0, -1)"
   ]
  },
  {
   "cell_type": "code",
   "execution_count": 7,
   "metadata": {},
   "outputs": [
    {
     "name": "stdout",
     "output_type": "stream",
     "text": [
      "\n"
     ]
    }
   ],
   "source": [
    "x = int(1e10)\n",
    "should_raise(OverflowError, integer, (x, x, x, x, x, x, x))"
   ]
  },
  {
   "cell_type": "code",
   "execution_count": 8,
   "metadata": {},
   "outputs": [
    {
     "name": "stdout",
     "output_type": "stream",
     "text": [
      "[rustdef_cell_375831073c4f95b3af097c1645d99649dacef238/src/lib.rs:16] int64 = 10000000000\n",
      "[rustdef_cell_375831073c4f95b3af097c1645d99649dacef238/src/lib.rs:17] int32 = 0\n",
      "[rustdef_cell_375831073c4f95b3af097c1645d99649dacef238/src/lib.rs:18] uint64 = 10000000000\n",
      "[rustdef_cell_375831073c4f95b3af097c1645d99649dacef238/src/lib.rs:19] uint32 = 0\n",
      "[rustdef_cell_375831073c4f95b3af097c1645d99649dacef238/src/lib.rs:20] int_size = 10000000000\n",
      "[rustdef_cell_375831073c4f95b3af097c1645d99649dacef238/src/lib.rs:21] uint_size = 10000000000\n",
      "[rustdef_cell_375831073c4f95b3af097c1645d99649dacef238/src/lib.rs:22] py_int = 10000000000\n"
     ]
    },
    {
     "data": {
      "text/plain": [
       "(10000000001, 1, 10000000001, 1, 10000000001, 10000000001)"
      ]
     },
     "execution_count": 8,
     "metadata": {},
     "output_type": "execute_result"
    }
   ],
   "source": [
    "x = int(10**10)\n",
    "y = integer(x, 0, x, 0, x, x, x)\n",
    "y"
   ]
  },
  {
   "cell_type": "code",
   "execution_count": 9,
   "metadata": {},
   "outputs": [
    {
     "name": "stdout",
     "output_type": "stream",
     "text": [
      "[rustdef_cell_375831073c4f95b3af097c1645d99649dacef238/src/lib.rs:16] int64 = 0\n",
      "[rustdef_cell_375831073c4f95b3af097c1645d99649dacef238/src/lib.rs:17] int32 = 0\n",
      "[rustdef_cell_375831073c4f95b3af097c1645d99649dacef238/src/lib.rs:18] uint64 = 0\n",
      "[rustdef_cell_375831073c4f95b3af097c1645d99649dacef238/src/lib.rs:19] uint32 = 0\n",
      "[rustdef_cell_375831073c4f95b3af097c1645d99649dacef238/src/lib.rs:20] int_size = 0\n",
      "[rustdef_cell_375831073c4f95b3af097c1645d99649dacef238/src/lib.rs:21] uint_size = 0\n",
      "[rustdef_cell_375831073c4f95b3af097c1645d99649dacef238/src/lib.rs:22] py_int = 1000000000000000000000000000000\n"
     ]
    },
    {
     "data": {
      "text/plain": [
       "((1, 1, 1, 1, 1, 1), [int, int, int, int, int, int])"
      ]
     },
     "execution_count": 9,
     "metadata": {},
     "output_type": "execute_result"
    }
   ],
   "source": [
    "x = int(10**30)\n",
    "y = integer(0, 0, 0, 0, 0, 0, x)\n",
    "y, list(type(z) for z in y)"
   ]
  },
  {
   "cell_type": "markdown",
   "metadata": {},
   "source": [
    "# Float\n",
    "\n",
    "- rust's `f64` and `f32` are compatible with python's `float`"
   ]
  },
  {
   "cell_type": "code",
   "execution_count": 10,
   "metadata": {},
   "outputs": [
    {
     "name": "stdout",
     "output_type": "stream",
     "text": [
      "Building..\n",
      "🔗 Found pyo3 bindings\n",
      "🐍 Found CPython 3.7m at python3.7\n",
      "\u001b[0m\u001b[0m\u001b[1m\u001b[32m   Compiling\u001b[0m rustdef v0.1.0 (/Users/ryosuke.kamesawa/Develop/rustdef/examples/.rustdef/rustdef)\n",
      "\u001b[K\u001b[0m\u001b[0m\u001b[1m\u001b[32m   Compiling\u001b[0m rustdef_cell_f13414c32abf888eb328cbe2a7a909e228b755ac v0.1.0 (/Users/ryosuke.kamesawa/Develop/rustdef/examples/.rustdef/rustdef_cell_f13414c32abf888eb328cbe2a7a909e228b755ac)\n",
      "\u001b[K\u001b[0m\u001b[0m\u001b[1m\u001b[32m    Finished\u001b[0m release [optimized] target(s) in 2.03s==================> ] 79/80\n",
      "📦 Built wheel for CPython 3.7m to /Users/ryosuke.kamesawa/Develop/rustdef/examples/.rustdef/target/wheels/rustdef_cell_f13414c32abf888eb328cbe2a7a909e228b755ac-0.1.0-cp37-cp37m-macosx_10_7_x86_64.whl\n",
      "Processing ./.rustdef/target/wheels/rustdef_cell_f13414c32abf888eb328cbe2a7a909e228b755ac-0.1.0-cp37-cp37m-macosx_10_7_x86_64.whl\n",
      "Installing collected packages: rustdef-cell-f13414c32abf888eb328cbe2a7a909e228b755ac\n",
      "Successfully installed rustdef-cell-f13414c32abf888eb328cbe2a7a909e228b755ac-0.1.0\n"
     ]
    }
   ],
   "source": [
    "%%rustdef --force-rebuild\n",
    "\n",
    "#[pyfunction]\n",
    "fn floating(double: f64, float: f32) -> (f64, f32) {\n",
    "    dbg!(double);\n",
    "    dbg!(float);\n",
    "    (double, float)\n",
    "}"
   ]
  },
  {
   "cell_type": "code",
   "execution_count": 11,
   "metadata": {},
   "outputs": [
    {
     "name": "stdout",
     "output_type": "stream",
     "text": [
      "[rustdef_cell_f13414c32abf888eb328cbe2a7a909e228b755ac/src/lib.rs:15] double = 0.3\n",
      "[rustdef_cell_f13414c32abf888eb328cbe2a7a909e228b755ac/src/lib.rs:16] float = 0.3\n"
     ]
    },
    {
     "data": {
      "text/plain": [
       "(0.3, 0.30000001192092896)"
      ]
     },
     "execution_count": 11,
     "metadata": {},
     "output_type": "execute_result"
    }
   ],
   "source": [
    "y = floating(0.3, 0.3)\n",
    "y"
   ]
  },
  {
   "cell_type": "code",
   "execution_count": 12,
   "metadata": {},
   "outputs": [
    {
     "data": {
      "text/plain": [
       "(float, float)"
      ]
     },
     "execution_count": 12,
     "metadata": {},
     "output_type": "execute_result"
    }
   ],
   "source": [
    "type(y[0]), type(y[1])"
   ]
  },
  {
   "cell_type": "markdown",
   "metadata": {},
   "source": [
    "# String\n",
    "\n",
    "- Rust's `String` and `&str` are compatible to python's `str`\n",
    "- Strings are immutable"
   ]
  },
  {
   "cell_type": "code",
   "execution_count": 13,
   "metadata": {},
   "outputs": [
    {
     "name": "stdout",
     "output_type": "stream",
     "text": [
      "Use previous build\n",
      "Processing ./.rustdef/target/wheels/rustdef_cell_2008590933bbb043e208e39ad070a0330a2541de-0.1.0-cp37-cp37m-macosx_10_7_x86_64.whl\n",
      "Installing collected packages: rustdef-cell-2008590933bbb043e208e39ad070a0330a2541de\n",
      "Successfully installed rustdef-cell-2008590933bbb043e208e39ad070a0330a2541de-0.1.0\n"
     ]
    }
   ],
   "source": [
    "%%rustdef\n",
    "\n",
    "#[pyfunction]\n",
    "fn strings(x: String, y: &str) -> (String, &str) {\n",
    "    dbg!(&x);\n",
    "    dbg!(y);\n",
    "    \n",
    "    (x, y)\n",
    "}"
   ]
  },
  {
   "cell_type": "code",
   "execution_count": 14,
   "metadata": {},
   "outputs": [
    {
     "name": "stdout",
     "output_type": "stream",
     "text": [
      "[rustdef_cell_2008590933bbb043e208e39ad070a0330a2541de/src/lib.rs:15] &x = \"foo\"\n",
      "[rustdef_cell_2008590933bbb043e208e39ad070a0330a2541de/src/lib.rs:16] y = \"bar\"\n"
     ]
    },
    {
     "data": {
      "text/plain": [
       "('foo', 'bar')"
      ]
     },
     "execution_count": 14,
     "metadata": {},
     "output_type": "execute_result"
    }
   ],
   "source": [
    "y = strings(\"foo\", \"bar\")\n",
    "y"
   ]
  },
  {
   "cell_type": "code",
   "execution_count": 15,
   "metadata": {},
   "outputs": [
    {
     "data": {
      "text/plain": [
       "(str, str)"
      ]
     },
     "execution_count": 15,
     "metadata": {},
     "output_type": "execute_result"
    }
   ],
   "source": [
    "type(y[0]), type(y[1])"
   ]
  },
  {
   "cell_type": "markdown",
   "metadata": {},
   "source": [
    "# List\n",
    "\n",
    "- Python's `list` can be converted to rust's `Vec`\n",
    "- To mutate python `list`, it should be passed as `&PyList` (`&mut` is redundant)\n",
    "    - see https://pyo3.rs/master/doc/pyo3/types/struct.PyList.html"
   ]
  },
  {
   "cell_type": "code",
   "execution_count": 16,
   "metadata": {},
   "outputs": [
    {
     "name": "stdout",
     "output_type": "stream",
     "text": [
      "Building..\n",
      "🔗 Found pyo3 bindings\n",
      "🐍 Found CPython 3.7m at python3.7\n",
      "\u001b[0m\u001b[0m\u001b[1m\u001b[32m   Compiling\u001b[0m rustdef_cell_ebbea4a139466959175055262a75a79410ccbb19 v0.1.0 (/Users/ryosuke.kamesawa/Develop/rustdef/examples/.rustdef/rustdef_cell_ebbea4a139466959175055262a75a79410ccbb19)\n",
      "\u001b[K\u001b[0m\u001b[0m\u001b[1m\u001b[32m    Finished\u001b[0m release [optimized] target(s) in 0.86s==================> ] 79/80\n",
      "📦 Built wheel for CPython 3.7m to /Users/ryosuke.kamesawa/Develop/rustdef/examples/.rustdef/target/wheels/rustdef_cell_ebbea4a139466959175055262a75a79410ccbb19-0.1.0-cp37-cp37m-macosx_10_7_x86_64.whl\n",
      "Processing ./.rustdef/target/wheels/rustdef_cell_ebbea4a139466959175055262a75a79410ccbb19-0.1.0-cp37-cp37m-macosx_10_7_x86_64.whl\n",
      "Installing collected packages: rustdef-cell-ebbea4a139466959175055262a75a79410ccbb19\n",
      "Successfully installed rustdef-cell-ebbea4a139466959175055262a75a79410ccbb19-0.1.0\n"
     ]
    }
   ],
   "source": [
    "%%rustdef --force-rebuild\n",
    "use pyo3::types::PyList;\n",
    "\n",
    "#[pyfunction]\n",
    "fn lists(x: Vec<i64>, y: Vec<String>, z: &PyList) -> PyResult<Vec<(i64, String)>> {\n",
    "    dbg!(&x);\n",
    "    dbg!(&y);\n",
    "    dbg!(z);\n",
    "    \n",
    "    z.append(\"foo\")?;\n",
    "    Ok(x.into_iter().zip(y.into_iter()).collect())\n",
    "}"
   ]
  },
  {
   "cell_type": "code",
   "execution_count": 17,
   "metadata": {},
   "outputs": [
    {
     "name": "stdout",
     "output_type": "stream",
     "text": [
      "[rustdef_cell_ebbea4a139466959175055262a75a79410ccbb19/src/lib.rs:16] &x = [\n",
      "    1,\n",
      "    2,\n",
      "    3,\n",
      "]\n",
      "[rustdef_cell_ebbea4a139466959175055262a75a79410ccbb19/src/lib.rs:17] &y = [\n",
      "    \"a\",\n",
      "    \"b\",\n",
      "]\n",
      "[rustdef_cell_ebbea4a139466959175055262a75a79410ccbb19/src/lib.rs:18] z = ['bar', 9]\n"
     ]
    },
    {
     "data": {
      "text/plain": [
       "([(1, 'a'), (2, 'b')], ['bar', 9, 'foo'])"
      ]
     },
     "execution_count": 17,
     "metadata": {},
     "output_type": "execute_result"
    }
   ],
   "source": [
    "x = [\"bar\", 9]\n",
    "lists([1, 2, 3], [\"a\", \"b\"], x), x"
   ]
  },
  {
   "cell_type": "code",
   "execution_count": 18,
   "metadata": {},
   "outputs": [
    {
     "name": "stdout",
     "output_type": "stream",
     "text": [
      "\n"
     ]
    }
   ],
   "source": [
    "should_raise(TypeError, lists, ([1, 2, 3], [\"a\", 2], []))"
   ]
  },
  {
   "cell_type": "markdown",
   "metadata": {},
   "source": [
    "# Dict\n",
    "\n",
    "- python `dict` is compatible to rust `HashMap`\n",
    "- To mutate `dict`, it should be `&PyDict`\n",
    "    - see https://pyo3.rs/master/doc/pyo3/types/struct.PyDict.html"
   ]
  },
  {
   "cell_type": "code",
   "execution_count": 19,
   "metadata": {},
   "outputs": [
    {
     "name": "stdout",
     "output_type": "stream",
     "text": [
      "Use previous build\n",
      "Processing ./.rustdef/target/wheels/rustdef_cell_f3851f8b798b19485207b0c3ec7d200758155cb1-0.1.0-cp37-cp37m-macosx_10_7_x86_64.whl\n",
      "Installing collected packages: rustdef-cell-f3851f8b798b19485207b0c3ec7d200758155cb1\n",
      "Successfully installed rustdef-cell-f3851f8b798b19485207b0c3ec7d200758155cb1-0.1.0\n"
     ]
    }
   ],
   "source": [
    "%%rustdef\n",
    "use std::collections::HashMap;\n",
    "use pyo3::types::PyDict;\n",
    "\n",
    "#[pyfunction]\n",
    "fn dicts(x: HashMap<String, i64>, y: HashMap<i64, Vec<i64>>, z: &PyDict) -> PyResult<()> {\n",
    "    dbg!(&x);\n",
    "    dbg!(&y);\n",
    "    dbg!(z);\n",
    "    \n",
    "    z.set_item(\"10\", 11)?;\n",
    "    Ok(())\n",
    "}"
   ]
  },
  {
   "cell_type": "code",
   "execution_count": 20,
   "metadata": {},
   "outputs": [
    {
     "name": "stdout",
     "output_type": "stream",
     "text": [
      "[rustdef_cell_f3851f8b798b19485207b0c3ec7d200758155cb1/src/lib.rs:17] &x = {\n",
      "    \"y\": -4,\n",
      "    \"x\": 10,\n",
      "}\n",
      "[rustdef_cell_f3851f8b798b19485207b0c3ec7d200758155cb1/src/lib.rs:18] &y = {\n",
      "    1: [\n",
      "        2,\n",
      "        3,\n",
      "    ],\n",
      "    4: [],\n",
      "    5: [\n",
      "        6,\n",
      "    ],\n",
      "}\n",
      "[rustdef_cell_f3851f8b798b19485207b0c3ec7d200758155cb1/src/lib.rs:19] z = {'foo': []}\n"
     ]
    },
    {
     "data": {
      "text/plain": [
       "{'foo': [], '10': 11}"
      ]
     },
     "execution_count": 20,
     "metadata": {},
     "output_type": "execute_result"
    }
   ],
   "source": [
    "x = {\"foo\": []}\n",
    "dicts(dict(x=10, y=-4), {1: [2, 3], 4: [], 5:[6]}, x)\n",
    "x"
   ]
  },
  {
   "cell_type": "code",
   "execution_count": 21,
   "metadata": {},
   "outputs": [
    {
     "name": "stdout",
     "output_type": "stream",
     "text": [
      "'str' object cannot be interpreted as an integer\n"
     ]
    }
   ],
   "source": [
    "should_raise(TypeError, dicts, (dict(x=10, y=\"-4\"), dict(), dict()))"
   ]
  },
  {
   "cell_type": "code",
   "execution_count": null,
   "metadata": {},
   "outputs": [],
   "source": []
  }
 ],
 "metadata": {
  "kernelspec": {
   "display_name": "Python 3",
   "language": "python",
   "name": "python3"
  },
  "language_info": {
   "codemirror_mode": {
    "name": "ipython",
    "version": 3
   },
   "file_extension": ".py",
   "mimetype": "text/x-python",
   "name": "python",
   "nbconvert_exporter": "python",
   "pygments_lexer": "ipython3",
   "version": "3.7.6"
  }
 },
 "nbformat": 4,
 "nbformat_minor": 2
}

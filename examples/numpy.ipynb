{
 "cells": [
  {
   "cell_type": "code",
   "execution_count": 1,
   "metadata": {},
   "outputs": [
    {
     "name": "stdout",
     "output_type": "stream",
     "text": [
      "load rustdef\n"
     ]
    },
    {
     "data": {
      "application/javascript": [
       "\n",
       "require(['notebook/js/codecell'], function(codecell) {\n",
       "    codecell.CodeCell.options_default.highlight_modes['text/x-rustsrc']\n",
       "        = {'reg':[/^%%rustdef/]} ;\n",
       "    Jupyter.notebook.events.one('kernel_ready.Kernel', function(){\n",
       "        Jupyter.notebook.get_cells().map(function(cell){\n",
       "        if (cell.cell_type == 'code'){ cell.auto_highlight(); } }) ;\n",
       "    });\n",
       "});\n"
      ],
      "text/plain": [
       "<IPython.core.display.Javascript object>"
      ]
     },
     "metadata": {},
     "output_type": "display_data"
    }
   ],
   "source": [
    "%load_ext rustdef"
   ]
  },
  {
   "cell_type": "code",
   "execution_count": 2,
   "metadata": {},
   "outputs": [
    {
     "name": "stdout",
     "output_type": "stream",
     "text": [
      "usage: %rustdef depends [-h] crates [crates ...]\n",
      "\n",
      "Add crate dependencies\n",
      "\n",
      "positional arguments:\n",
      "  crates      Dependencies to be added\n",
      "\n",
      "optional arguments:\n",
      "  -h, --help  show this help message and exit\n"
     ]
    }
   ],
   "source": [
    "%rustdef depends --help"
   ]
  },
  {
   "cell_type": "code",
   "execution_count": 3,
   "metadata": {},
   "outputs": [],
   "source": [
    "%rustdef depends ndarray"
   ]
  },
  {
   "cell_type": "code",
   "execution_count": 4,
   "metadata": {},
   "outputs": [
    {
     "name": "stdout",
     "output_type": "stream",
     "text": [
      "Use previous build\n"
     ]
    }
   ],
   "source": [
    "%%rustdef\n",
    "use rustdef::numpy::Array;\n",
    "\n",
    "// immutable example\n",
    "#[pyfunction]\n",
    "fn axpy<'a>(a: f64, x: Array<'a, f64>, y: Array<'a, f64>) -> PyResult<Array<'a, f64>> {\n",
    "    let x = x.to_array();\n",
    "    let y = y.to_array();\n",
    "    let z = a * x + y;\n",
    "    println!(\"{}\", a);\n",
    "    Ok(z.into())\n",
    "}"
   ]
  },
  {
   "cell_type": "code",
   "execution_count": 5,
   "metadata": {},
   "outputs": [],
   "source": [
    "import numpy as np"
   ]
  },
  {
   "cell_type": "code",
   "execution_count": 6,
   "metadata": {},
   "outputs": [
    {
     "name": "stdout",
     "output_type": "stream",
     "text": [
      "2.4\n"
     ]
    },
    {
     "data": {
      "text/plain": [
       "array([ 4.7 , 18.58,  4.96])"
      ]
     },
     "execution_count": 6,
     "metadata": {},
     "output_type": "execute_result"
    }
   ],
   "source": [
    "axpy(2.4, np.array([1.0, 3.2, 2.9]), np.array([2.3, 10.9, -2]))"
   ]
  },
  {
   "cell_type": "code",
   "execution_count": 7,
   "metadata": {},
   "outputs": [
    {
     "name": "stdout",
     "output_type": "stream",
     "text": [
      "Use previous build\n"
     ]
    }
   ],
   "source": [
    "%%rustdef\n",
    "use rustdef::numpy::Array;\n",
    "\n",
    "// immutable example\n",
    "#[pyfunction]\n",
    "fn axpy<'a>(a: f64, x: Array<'a, f64>, y: Array<'a, f64>) -> PyResult<Array<'a, f64>> {\n",
    "    let x = x.to_array();\n",
    "    let y = y.to_array();\n",
    "    let z = a * x + y;\n",
    "    Ok(z.into())\n",
    "}\n",
    "\n",
    "// mutable example\n",
    "#[pyfunction]\n",
    "fn mult_inline<'a>(a: f64, x: Array<'a, f64>) -> PyResult<()> {\n",
    "    let mut x = x.into_mut_array()?;\n",
    "    x *= a;\n",
    "    Ok(())\n",
    "}"
   ]
  },
  {
   "cell_type": "code",
   "execution_count": 8,
   "metadata": {},
   "outputs": [
    {
     "data": {
      "text/plain": [
       "(array([0.92143706, 0.00225896, 0.10215355, 0.40368477, 0.04606151,\n",
       "        0.50350768, 0.37160328, 0.11971092, 0.05561732, 0.53525992]),\n",
       " array([0.41618282, 0.79195973, 0.8778752 , 0.6719745 , 0.7536344 ,\n",
       "        0.98451322, 0.28129915, 0.98359887, 0.11583479, 0.22774309]))"
      ]
     },
     "execution_count": 8,
     "metadata": {},
     "output_type": "execute_result"
    }
   ],
   "source": [
    "x = np.random.rand(10)\n",
    "y = np.random.rand(10)\n",
    "x, y"
   ]
  },
  {
   "cell_type": "code",
   "execution_count": 9,
   "metadata": {},
   "outputs": [
    {
     "data": {
      "text/plain": [
       "array([3.18049401, 0.79873661, 1.18433586, 1.8830288 , 0.89181892,\n",
       "       2.49503626, 1.39610898, 1.34273164, 0.28268675, 1.83352285])"
      ]
     },
     "execution_count": 9,
     "metadata": {},
     "output_type": "execute_result"
    }
   ],
   "source": [
    "axpy(3.0, x, y)"
   ]
  },
  {
   "cell_type": "code",
   "execution_count": 10,
   "metadata": {},
   "outputs": [],
   "source": [
    "mult_inline(12.0, x)"
   ]
  },
  {
   "cell_type": "code",
   "execution_count": 11,
   "metadata": {},
   "outputs": [
    {
     "data": {
      "text/plain": [
       "array([11.05724474,  0.02710752,  1.22584263,  4.84421718,  0.55273809,\n",
       "        6.04209218,  4.45923932,  1.43653107,  0.66740786,  6.42311904])"
      ]
     },
     "execution_count": 11,
     "metadata": {},
     "output_type": "execute_result"
    }
   ],
   "source": [
    "x"
   ]
  },
  {
   "cell_type": "code",
   "execution_count": null,
   "metadata": {},
   "outputs": [],
   "source": []
  }
 ],
 "metadata": {
  "kernelspec": {
   "display_name": "Python 3",
   "language": "python",
   "name": "python3"
  },
  "language_info": {
   "codemirror_mode": {
    "name": "ipython",
    "version": 3
   },
   "file_extension": ".py",
   "mimetype": "text/x-python",
   "name": "python",
   "nbconvert_exporter": "python",
   "pygments_lexer": "ipython3",
   "version": "3.6.10"
  }
 },
 "nbformat": 4,
 "nbformat_minor": 2
}

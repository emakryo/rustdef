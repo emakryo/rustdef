{
 "cells": [
  {
   "cell_type": "code",
   "execution_count": 1,
   "metadata": {},
   "outputs": [
    {
     "name": "stdout",
     "output_type": "stream",
     "text": [
      "load rustdef\n"
     ]
    }
   ],
   "source": [
    "%load_ext rustdef"
   ]
  },
  {
   "cell_type": "code",
   "execution_count": 2,
   "metadata": {},
   "outputs": [],
   "source": [
    "%rustdef depends ndarray"
   ]
  },
  {
   "cell_type": "code",
   "execution_count": 3,
   "metadata": {},
   "outputs": [
    {
     "name": "stdout",
     "output_type": "stream",
     "text": [
      "Building..\n",
      "🔗 Found pyo3 bindings\n",
      "🐍 Found CPython 3.7m at python3.7\n",
      "\u001b[0m\u001b[0m\u001b[1m\u001b[32m   Compiling\u001b[0m rustdef v0.1.0 (/Users/ryosuke.kamesawa/Develop/rustdef/examples/.rustdef/rustdef)\n",
      "\u001b[K\u001b[0m\u001b[0m\u001b[1m\u001b[32m   Compiling\u001b[0m rustdef_cell_90ca76e0b1b4a717af6b5fc54e3b7d961fa54e7e v0.1.0 (/Users/ryosuke.kamesawa/Develop/rustdef/examples/.rustdef/rustdef_cell_90ca76e0b1b4a717af6b5fc54e3b7d961fa54e7e)\n",
      "\u001b[K\u001b[0m\u001b[0m\u001b[1m\u001b[32m    Finished\u001b[0m release [optimized] target(s) in 4.58s==================> ] 79/80\n",
      "📦 Built wheel for CPython 3.7m to /Users/ryosuke.kamesawa/Develop/rustdef/examples/.rustdef/target/wheels/rustdef_cell_90ca76e0b1b4a717af6b5fc54e3b7d961fa54e7e-0.1.0-cp37-cp37m-macosx_10_7_x86_64.whl\n"
     ]
    }
   ],
   "source": [
    "%%rustdef --force-rebuild\n",
    "use rustdef::numpy::Array;\n",
    "\n",
    "// immutable example\n",
    "#[pyfunction]\n",
    "fn axpy<'a>(a: f64, x: Array<'a, f64>, y: Array<'a, f64>) -> PyResult<Array<'a, f64>> {\n",
    "    let x = x.to_array();\n",
    "    let y = y.to_array();\n",
    "    let z = a * x + y;\n",
    "    println!(\"{}\", a);\n",
    "    Ok(z.into())\n",
    "}"
   ]
  },
  {
   "cell_type": "code",
   "execution_count": 4,
   "metadata": {},
   "outputs": [],
   "source": [
    "import numpy as np"
   ]
  },
  {
   "cell_type": "code",
   "execution_count": 5,
   "metadata": {},
   "outputs": [
    {
     "name": "stdout",
     "output_type": "stream",
     "text": [
      "2.4\n"
     ]
    },
    {
     "data": {
      "text/plain": [
       "array([ 4.7 , 18.58,  4.96])"
      ]
     },
     "execution_count": 5,
     "metadata": {},
     "output_type": "execute_result"
    }
   ],
   "source": [
    "axpy(2.4, np.array([1.0, 3.2, 2.9]), np.array([2.3, 10.9, -2]))"
   ]
  },
  {
   "cell_type": "code",
   "execution_count": 6,
   "metadata": {},
   "outputs": [
    {
     "name": "stdout",
     "output_type": "stream",
     "text": [
      "Use previous build\n"
     ]
    }
   ],
   "source": [
    "%%rustdef\n",
    "use rustdef::numpy::Array;\n",
    "\n",
    "// immutable example\n",
    "#[pyfunction]\n",
    "fn axpy<'a>(a: f64, x: Array<'a, f64>, y: Array<'a, f64>) -> PyResult<Array<'a, f64>> {\n",
    "    let x = x.to_array();\n",
    "    let y = y.to_array();\n",
    "    let z = a * x + y;\n",
    "    Ok(z.into())\n",
    "}\n",
    "\n",
    "// mutable example\n",
    "#[pyfunction]\n",
    "fn mult_inline<'a>(a: f64, x: Array<'a, f64>) -> PyResult<()> {\n",
    "    let mut x = x.as_mut_array()?;\n",
    "    x *= a;\n",
    "    Ok(())\n",
    "}"
   ]
  },
  {
   "cell_type": "code",
   "execution_count": 7,
   "metadata": {},
   "outputs": [
    {
     "data": {
      "text/plain": [
       "(array([0.19819497, 0.53533892, 0.00374522, 0.8177266 , 0.23339536,\n",
       "        0.82412973, 0.30025583, 0.54454643, 0.74431044, 0.47844637]),\n",
       " array([0.36801197, 0.74525113, 0.94170326, 0.25801958, 0.30415374,\n",
       "        0.58654776, 0.60195342, 0.13001252, 0.27445097, 0.00601374]))"
      ]
     },
     "execution_count": 7,
     "metadata": {},
     "output_type": "execute_result"
    }
   ],
   "source": [
    "x = np.random.rand(10)\n",
    "y = np.random.rand(10)\n",
    "x, y"
   ]
  },
  {
   "cell_type": "code",
   "execution_count": 8,
   "metadata": {},
   "outputs": [
    {
     "data": {
      "text/plain": [
       "array([0.96259688, 2.35126788, 0.95293891, 2.71119937, 1.00433983,\n",
       "       3.05893695, 1.50272092, 1.76365182, 2.50738229, 1.44135284])"
      ]
     },
     "execution_count": 8,
     "metadata": {},
     "output_type": "execute_result"
    }
   ],
   "source": [
    "axpy(3.0, x, y)"
   ]
  },
  {
   "cell_type": "code",
   "execution_count": 9,
   "metadata": {},
   "outputs": [],
   "source": [
    "mult_inline(12.0, x)"
   ]
  },
  {
   "cell_type": "code",
   "execution_count": 10,
   "metadata": {},
   "outputs": [
    {
     "data": {
      "text/plain": [
       "array([2.37833961, 6.42406701, 0.0449426 , 9.81271917, 2.80074434,\n",
       "       9.88955674, 3.60307002, 6.53455719, 8.93172529, 5.74135641])"
      ]
     },
     "execution_count": 10,
     "metadata": {},
     "output_type": "execute_result"
    }
   ],
   "source": [
    "x"
   ]
  },
  {
   "cell_type": "code",
   "execution_count": null,
   "metadata": {},
   "outputs": [],
   "source": []
  }
 ],
 "metadata": {
  "kernelspec": {
   "display_name": "Python 3",
   "language": "python",
   "name": "python3"
  },
  "language_info": {
   "codemirror_mode": {
    "name": "ipython",
    "version": 3
   },
   "file_extension": ".py",
   "mimetype": "text/x-python",
   "name": "python",
   "nbconvert_exporter": "python",
   "pygments_lexer": "ipython3",
   "version": "3.7.6"
  }
 },
 "nbformat": 4,
 "nbformat_minor": 2
}

{
 "cells": [
  {
   "cell_type": "code",
   "execution_count": 1,
   "metadata": {},
   "outputs": [
    {
     "name": "stdout",
     "output_type": "stream",
     "text": [
      "load rustdef\n"
     ]
    }
   ],
   "source": [
    "%load_ext rustdef"
   ]
  },
  {
   "cell_type": "code",
   "execution_count": 2,
   "metadata": {},
   "outputs": [],
   "source": [
    "%rustdef depends ndarray"
   ]
  },
  {
   "cell_type": "code",
   "execution_count": 3,
   "metadata": {},
   "outputs": [
    {
     "name": "stdout",
     "output_type": "stream",
     "text": [
      "Use previous build\n"
     ]
    }
   ],
   "source": [
    "%%rustdef\n",
    "use rustdef::Numpy;\n",
    "\n",
    "// immutable example\n",
    "#[pyfunction]\n",
    "fn axpy<'a>(a: f64, x: Numpy<'a, f64>, y: Numpy<'a, f64>) -> PyResult<Numpy<'a, f64>> {\n",
    "    let x = x.to_array();\n",
    "    let y = y.to_array();\n",
    "    let z = a * x + y;\n",
    "    println!(\"{}\", a);\n",
    "    Ok(z.into())\n",
    "}"
   ]
  },
  {
   "cell_type": "code",
   "execution_count": 4,
   "metadata": {},
   "outputs": [],
   "source": [
    "import numpy as np"
   ]
  },
  {
   "cell_type": "code",
   "execution_count": 5,
   "metadata": {},
   "outputs": [
    {
     "name": "stdout",
     "output_type": "stream",
     "text": [
      "2.4\n"
     ]
    },
    {
     "data": {
      "text/plain": [
       "array([ 4.7 , 18.58,  4.96])"
      ]
     },
     "execution_count": 5,
     "metadata": {},
     "output_type": "execute_result"
    }
   ],
   "source": [
    "axpy(2.4, np.array([1.0, 3.2, 2.9]), np.array([2.3, 10.9, -2]))"
   ]
  },
  {
   "cell_type": "code",
   "execution_count": 6,
   "metadata": {},
   "outputs": [
    {
     "name": "stdout",
     "output_type": "stream",
     "text": [
      "Use previous build\n"
     ]
    }
   ],
   "source": [
    "%%rustdef\n",
    "use rustdef::Numpy;\n",
    "\n",
    "// immutable example\n",
    "#[pyfunction]\n",
    "fn axpy<'a>(a: f64, x: Numpy<'a, f64>, y: Numpy<'a, f64>) -> PyResult<Numpy<'a, f64>> {\n",
    "    let x = x.to_array();\n",
    "    let y = y.to_array();\n",
    "    let z = a * x + y;\n",
    "    Ok(z.into())\n",
    "}\n",
    "\n",
    "// mutable example\n",
    "#[pyfunction]\n",
    "fn mult_inline<'a>(a: f64, x: Numpy<'a, f64>) -> PyResult<()> {\n",
    "    let mut x = x.as_mut_array()?;\n",
    "    x *= a;\n",
    "    Ok(())\n",
    "}"
   ]
  },
  {
   "cell_type": "code",
   "execution_count": 7,
   "metadata": {},
   "outputs": [
    {
     "data": {
      "text/plain": [
       "(array([0.35620347, 0.18658317, 0.5269757 , 0.23630135, 0.57454736,\n",
       "        0.05540604, 0.15215006, 0.84340496, 0.00318686, 0.63748062]),\n",
       " array([0.5988546 , 0.40530163, 0.03063127, 0.59007521, 0.78762734,\n",
       "        0.20007472, 0.544951  , 0.41126285, 0.61589392, 0.55434138]))"
      ]
     },
     "execution_count": 7,
     "metadata": {},
     "output_type": "execute_result"
    }
   ],
   "source": [
    "x = np.random.rand(10)\n",
    "y = np.random.rand(10)\n",
    "x, y"
   ]
  },
  {
   "cell_type": "code",
   "execution_count": 8,
   "metadata": {},
   "outputs": [
    {
     "data": {
      "text/plain": [
       "array([1.66746501, 0.96505113, 1.61155837, 1.29897927, 2.51126941,\n",
       "       0.36629285, 1.00140118, 2.94147774, 0.62545451, 2.46678323])"
      ]
     },
     "execution_count": 8,
     "metadata": {},
     "output_type": "execute_result"
    }
   ],
   "source": [
    "axpy(3.0, x, y)"
   ]
  },
  {
   "cell_type": "code",
   "execution_count": 9,
   "metadata": {},
   "outputs": [],
   "source": [
    "mult_inline(12.0, x)"
   ]
  },
  {
   "cell_type": "code",
   "execution_count": 10,
   "metadata": {},
   "outputs": [
    {
     "data": {
      "text/plain": [
       "array([ 4.27444164,  2.23899798,  6.32370842,  2.83561621,  6.89456828,\n",
       "        0.66487253,  1.82580071, 10.12085953,  0.03824233,  7.64976742])"
      ]
     },
     "execution_count": 10,
     "metadata": {},
     "output_type": "execute_result"
    }
   ],
   "source": [
    "x"
   ]
  }
 ],
 "metadata": {
  "kernelspec": {
   "display_name": "Python 3",
   "language": "python",
   "name": "python3"
  },
  "language_info": {
   "codemirror_mode": {
    "name": "ipython",
    "version": 3
   },
   "file_extension": ".py",
   "mimetype": "text/x-python",
   "name": "python",
   "nbconvert_exporter": "python",
   "pygments_lexer": "ipython3",
   "version": "3.7.6"
  }
 },
 "nbformat": 4,
 "nbformat_minor": 2
}

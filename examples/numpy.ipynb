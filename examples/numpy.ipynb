{
 "cells": [
  {
   "cell_type": "code",
   "execution_count": 1,
   "metadata": {},
   "outputs": [],
   "source": [
    "%load_ext rustdef"
   ]
  },
  {
   "cell_type": "code",
   "execution_count": 2,
   "metadata": {},
   "outputs": [],
   "source": [
    "%rustdef depends --help"
   ]
  },
  {
   "cell_type": "code",
   "execution_count": 3,
   "metadata": {},
   "outputs": [],
   "source": [
    "%rustdef depends ndarray numpy"
   ]
  },
  {
   "cell_type": "code",
   "execution_count": 4,
   "metadata": {},
   "outputs": [
    {
     "name": "stdout",
     "output_type": "stream",
     "text": [
      "Use previous build\n"
     ]
    }
   ],
   "source": [
    "%%rustdef\n",
    "use numpy::{IntoPyArray, PyArrayDyn, PyReadonlyArrayDyn};\n",
    "use ndarray::{ArrayD, ArrayViewD};\n",
    "\n",
    "// immutable example\n",
    "fn axpy_rs(a: f64, x: ArrayViewD<'_, f64>, y: ArrayViewD<'_, f64>) -> ArrayD<f64> {\n",
    "    a * &x + &y\n",
    "}\n",
    "\n",
    "#[pyfn(m, \"axpy\")]\n",
    "fn axpy<'py>(\n",
    "    py: Python<'py>,\n",
    "    a: f64,\n",
    "    x: PyReadonlyArrayDyn<f64>,\n",
    "    y: PyReadonlyArrayDyn<f64>,\n",
    ") -> &'py PyArrayDyn<f64> {\n",
    "    let x = x.as_array();\n",
    "    let y = y.as_array();\n",
    "    axpy_rs(a, x, y).into_pyarray(py)\n",
    "}"
   ]
  },
  {
   "cell_type": "code",
   "execution_count": 5,
   "metadata": {},
   "outputs": [],
   "source": [
    "import numpy as np"
   ]
  },
  {
   "cell_type": "code",
   "execution_count": 6,
   "metadata": {},
   "outputs": [
    {
     "data": {
      "text/plain": [
       "array([ 4.7 , 18.58,  4.96])"
      ]
     },
     "execution_count": 6,
     "metadata": {},
     "output_type": "execute_result"
    }
   ],
   "source": [
    "axpy(2.4, np.array([1.0, 3.2, 2.9]), np.array([2.3, 10.9, -2]))"
   ]
  },
  {
   "cell_type": "code",
   "execution_count": 7,
   "metadata": {},
   "outputs": [
    {
     "name": "stdout",
     "output_type": "stream",
     "text": [
      "Building..\n",
      "🔗 Found pyo3 bindings\n",
      "🐍 Found CPython 3.6m at python3.6\n",
      "\u001b[K\u001b[0m\u001b[0m\u001b[1m\u001b[32m   Compiling\u001b[0m rustdef_cell_eb290401c4e6e3348fa7a25c89d3386163589099 v0.1.0 (/Users/ryosuke.kamesawa/.rustdef/rustdef_cell_eb290401c4e6e3348fa7a25c89d3386163589099)\n",
      "\u001b[K\u001b[0m\u001b[0m\u001b[1m\u001b[32m    Finished\u001b[0m release [optimized] target(s) in 1.30s=================>  ] 52/53\n",
      "📦 Built wheel for CPython 3.6m to /Users/ryosuke.kamesawa/.rustdef/target/wheels/rustdef_cell_eb290401c4e6e3348fa7a25c89d3386163589099-0.1.0-cp36-cp36m-macosx_10_7_x86_64.whl\n"
     ]
    }
   ],
   "source": [
    "%%rustdef\n",
    "use numpy::{IntoPyArray, PyArrayDyn, PyReadonlyArrayDyn};\n",
    "use ndarray::{ArrayD, ArrayViewD};\n",
    "\n",
    "// mutable example\n",
    "#[pyfn(m, \"mult_inline\")]\n",
    "fn mult_inline<'py>(_py: Python<'py>, a: f64, x: &'py PyArrayDyn<f64>) -> PyResult<()> {\n",
    "    let mut x = unsafe { x.as_array_mut() };\n",
    "    x *= a;\n",
    "    Ok(())\n",
    "}"
   ]
  },
  {
   "cell_type": "code",
   "execution_count": 8,
   "metadata": {},
   "outputs": [
    {
     "data": {
      "text/plain": [
       "(array([0.22028245, 0.24305027, 0.39490205, 0.39612272, 0.19711848,\n",
       "        0.65031284, 0.0793689 , 0.79990404, 0.9847672 , 0.16397183]),\n",
       " array([0.22365979, 0.12497596, 0.80552557, 0.07580793, 0.55788643,\n",
       "        0.26836718, 0.10282968, 0.52494688, 0.87406694, 0.21565078]))"
      ]
     },
     "execution_count": 8,
     "metadata": {},
     "output_type": "execute_result"
    }
   ],
   "source": [
    "x = np.random.rand(10)\n",
    "y = np.random.rand(10)\n",
    "x, y"
   ]
  },
  {
   "cell_type": "code",
   "execution_count": 9,
   "metadata": {},
   "outputs": [
    {
     "data": {
      "text/plain": [
       "array([0.88450714, 0.85412678, 1.99023172, 1.26417608, 1.14924188,\n",
       "       2.2193057 , 0.34093638, 2.924659  , 3.82836855, 0.70756628])"
      ]
     },
     "execution_count": 9,
     "metadata": {},
     "output_type": "execute_result"
    }
   ],
   "source": [
    "axpy(3.0, x, y)"
   ]
  },
  {
   "cell_type": "code",
   "execution_count": 10,
   "metadata": {},
   "outputs": [],
   "source": [
    "mult_inline(12.0, x)"
   ]
  },
  {
   "cell_type": "code",
   "execution_count": 11,
   "metadata": {},
   "outputs": [
    {
     "data": {
      "text/plain": [
       "array([ 2.6433894 ,  2.91660327,  4.7388246 ,  4.75347259,  2.36542179,\n",
       "        7.80375408,  0.95242682,  9.59884847, 11.81720643,  1.96766201])"
      ]
     },
     "execution_count": 11,
     "metadata": {},
     "output_type": "execute_result"
    }
   ],
   "source": [
    "x"
   ]
  },
  {
   "cell_type": "code",
   "execution_count": null,
   "metadata": {},
   "outputs": [],
   "source": []
  }
 ],
 "metadata": {
  "kernelspec": {
   "display_name": "Python 3",
   "language": "python",
   "name": "python3"
  },
  "language_info": {
   "codemirror_mode": {
    "name": "ipython",
    "version": 3
   },
   "file_extension": ".py",
   "mimetype": "text/x-python",
   "name": "python",
   "nbconvert_exporter": "python",
   "pygments_lexer": "ipython3",
   "version": "3.6.12"
  }
 },
 "nbformat": 4,
 "nbformat_minor": 2
}

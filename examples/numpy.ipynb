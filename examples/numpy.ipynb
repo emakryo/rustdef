{
 "cells": [
  {
   "cell_type": "code",
   "execution_count": 1,
   "metadata": {},
   "outputs": [
    {
     "name": "stdout",
     "output_type": "stream",
     "text": [
      "load rustdef\n"
     ]
    },
    {
     "data": {
      "application/javascript": [
       "\n",
       "require(['notebook/js/codecell'], function(codecell) {\n",
       "    codecell.CodeCell.options_default.highlight_modes['text/x-rustsrc']\n",
       "        = {'reg':[/^%%rustdef/]} ;\n",
       "    Jupyter.notebook.events.one('kernel_ready.Kernel', function(){\n",
       "        Jupyter.notebook.get_cells().map(function(cell){\n",
       "        if (cell.cell_type == 'code'){ cell.auto_highlight(); } }) ;\n",
       "    });\n",
       "});\n"
      ],
      "text/plain": [
       "<IPython.core.display.Javascript object>"
      ]
     },
     "metadata": {},
     "output_type": "display_data"
    }
   ],
   "source": [
    "%load_ext rustdef"
   ]
  },
  {
   "cell_type": "code",
   "execution_count": 2,
   "metadata": {},
   "outputs": [
    {
     "name": "stdout",
     "output_type": "stream",
     "text": [
      "usage: %rustdef depends [-h] crates [crates ...]\n",
      "\n",
      "Add crate dependencies\n",
      "\n",
      "positional arguments:\n",
      "  crates      Dependencies to be added\n",
      "\n",
      "optional arguments:\n",
      "  -h, --help  show this help message and exit\n"
     ]
    }
   ],
   "source": [
    "%rustdef depends --help"
   ]
  },
  {
   "cell_type": "code",
   "execution_count": 3,
   "metadata": {},
   "outputs": [],
   "source": [
    "%rustdef depends ndarray numpy"
   ]
  },
  {
   "cell_type": "code",
   "execution_count": 4,
   "metadata": {},
   "outputs": [
    {
     "name": "stdout",
     "output_type": "stream",
     "text": [
      "Building..\n",
      "🔗 Found pyo3 bindings\n",
      "🐍 Found CPython 3.6m at /home/ubuntu/.cache/pypoetry/virtualenvs/rustdef-WQU2FD6R-py3.6/bin/python\n",
      "\u001b[0m\u001b[0m\u001b[1m\u001b[32m   Compiling\u001b[0m pyo3 v0.13.0\n",
      "\u001b[K\u001b[0m\u001b[0m\u001b[1m\u001b[32m   Compiling\u001b[0m numpy v0.13.0=====================================>    ] 45/48/48\n",
      "\u001b[K\u001b[0m\u001b[0m\u001b[1m\u001b[32m   Compiling\u001b[0m rustdef_cell_061582ff6121f84c360a9854f4f8a7dbb2f46141 v0.1.0 (/home/ubuntu/.rustdef/rustdef_cell_061582ff6121f84c360a9854f4f8a7dbb2f46141)\n",
      "\u001b[K\u001b[0m\u001b[0m\u001b[1m\u001b[32m    Finished\u001b[0m dev [unoptimized + debuginfo] target(s) in 14.96s======>  ] 47/48\n",
      "📦 Built wheel for CPython 3.6m to /home/ubuntu/.rustdef/target/wheels/rustdef_cell_061582ff6121f84c360a9854f4f8a7dbb2f46141-0.1.0-cp36-cp36m-manylinux2014_aarch64.whl\n",
      "ignore /home/ubuntu/.rustdef/target/wheels/rustdef_cell_061582ff6121f84c360a9854f4f8a7dbb2f46141-0.1.0-cp38-cp38-manylinux2014_aarch64.whl\n"
     ]
    }
   ],
   "source": [
    "%%rustdef\n",
    "use numpy::{IntoPyArray, PyArrayDyn, PyReadonlyArrayDyn};\n",
    "use ndarray::{ArrayD, ArrayViewD};\n",
    "\n",
    "// immutable example\n",
    "fn axpy_rs(a: f64, x: ArrayViewD<'_, f64>, y: ArrayViewD<'_, f64>) -> ArrayD<f64> {\n",
    "    a * &x + &y\n",
    "}\n",
    "\n",
    "#[pyfn(m, \"axpy\")]\n",
    "fn axpy<'py>(\n",
    "    py: Python<'py>,\n",
    "    a: f64,\n",
    "    x: PyReadonlyArrayDyn<'py, f64>,\n",
    "    y: PyReadonlyArrayDyn<'py, f64>,\n",
    ") -> &'py PyArrayDyn<f64> {\n",
    "    let x = x.as_array();\n",
    "    let y = y.as_array();\n",
    "    axpy_rs(a, x, y).into_pyarray(py)\n",
    "}"
   ]
  },
  {
   "cell_type": "code",
   "execution_count": 5,
   "metadata": {},
   "outputs": [],
   "source": [
    "import numpy as np"
   ]
  },
  {
   "cell_type": "code",
   "execution_count": 6,
   "metadata": {},
   "outputs": [
    {
     "data": {
      "text/plain": [
       "array([ 4.7 , 18.58,  4.96])"
      ]
     },
     "execution_count": 6,
     "metadata": {},
     "output_type": "execute_result"
    }
   ],
   "source": [
    "axpy(2.4, np.array([1.0, 3.2, 2.9]), np.array([2.3, 10.9, -2]))"
   ]
  },
  {
   "cell_type": "code",
   "execution_count": 7,
   "metadata": {},
   "outputs": [
    {
     "name": "stdout",
     "output_type": "stream",
     "text": [
      "Use previous build\n"
     ]
    }
   ],
   "source": [
    "%%rustdef\n",
    "use numpy::{IntoPyArray, PyArrayDyn, PyReadonlyArrayDyn};\n",
    "use ndarray::{ArrayD, ArrayViewD};\n",
    "\n",
    "// mutable example\n",
    "#[pyfn(m, \"mult_inline\")]\n",
    "fn mult_inline<'py>(_py: Python<'py>, a: f64, x: &'py PyArrayDyn<f64>) -> PyResult<()> {\n",
    "    let mut x = unsafe { x.as_array_mut() };\n",
    "    x *= a;\n",
    "    Ok(())\n",
    "}"
   ]
  },
  {
   "cell_type": "code",
   "execution_count": 8,
   "metadata": {},
   "outputs": [
    {
     "data": {
      "text/plain": [
       "(array([0.44297504, 0.68001904, 0.47378076, 0.85878938, 0.59299624,\n",
       "        0.14037105, 0.62372361, 0.86531054, 0.92192754, 0.26999568]),\n",
       " array([0.64795717, 0.92139967, 0.04663736, 0.85287107, 0.04699888,\n",
       "        0.24408926, 0.49788451, 0.07708571, 0.01114177, 0.488855  ]))"
      ]
     },
     "execution_count": 8,
     "metadata": {},
     "output_type": "execute_result"
    }
   ],
   "source": [
    "x = np.random.rand(10)\n",
    "y = np.random.rand(10)\n",
    "x, y"
   ]
  },
  {
   "cell_type": "code",
   "execution_count": 9,
   "metadata": {},
   "outputs": [
    {
     "data": {
      "text/plain": [
       "array([1.9768823 , 2.96145678, 1.46797964, 3.42923921, 1.82598761,\n",
       "       0.66520242, 2.36905534, 2.67301733, 2.77692438, 1.29884204])"
      ]
     },
     "execution_count": 9,
     "metadata": {},
     "output_type": "execute_result"
    }
   ],
   "source": [
    "axpy(3.0, x, y)"
   ]
  },
  {
   "cell_type": "code",
   "execution_count": 10,
   "metadata": {},
   "outputs": [],
   "source": [
    "mult_inline(12.0, x)"
   ]
  },
  {
   "cell_type": "code",
   "execution_count": 11,
   "metadata": {},
   "outputs": [
    {
     "data": {
      "text/plain": [
       "array([ 5.31570052,  8.16022845,  5.6853691 , 10.30547255,  7.11595489,\n",
       "        1.68445263,  7.48468331, 10.38372651, 11.06313043,  3.23994813])"
      ]
     },
     "execution_count": 11,
     "metadata": {},
     "output_type": "execute_result"
    }
   ],
   "source": [
    "x"
   ]
  },
  {
   "cell_type": "code",
   "execution_count": null,
   "metadata": {},
   "outputs": [],
   "source": []
  }
 ],
 "metadata": {
  "kernelspec": {
   "display_name": "Python 3",
   "language": "python",
   "name": "python3"
  },
  "language_info": {
   "codemirror_mode": {
    "name": "ipython",
    "version": 3
   },
   "file_extension": ".py",
   "mimetype": "text/x-python",
   "name": "python",
   "nbconvert_exporter": "python",
   "pygments_lexer": "ipython3",
   "version": "3.6.12"
  }
 },
 "nbformat": 4,
 "nbformat_minor": 2
}

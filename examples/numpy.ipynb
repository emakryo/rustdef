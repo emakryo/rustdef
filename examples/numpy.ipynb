{
 "cells": [
  {
   "cell_type": "code",
   "execution_count": 1,
   "metadata": {
    "scrolled": false
   },
   "outputs": [
    {
     "name": "stdout",
     "output_type": "stream",
     "text": [
      "load rustdef\n"
     ]
    },
    {
     "data": {
      "application/javascript": "\nrequire(['notebook/js/codecell'], function(codecell) {\n    codecell.CodeCell.options_default.highlight_modes['text/x-rustsrc']\n        = {'reg':[/^%%rustdef/]} ;\n    Jupyter.notebook.events.one('kernel_ready.Kernel', function(){\n        Jupyter.notebook.get_cells().map(function(cell){\n        if (cell.cell_type == 'code'){ cell.auto_highlight(); } }) ;\n    });\n});\n",
      "text/plain": [
       "<IPython.core.display.Javascript object>"
      ]
     },
     "metadata": {},
     "output_type": "display_data"
    },
    {
     "name": "stderr",
     "output_type": "stream",
     "text": [
      "     Created library package\n",
      "    Updating crates.io index\n",
      "      Adding pyo3 v0.15.1 to dependencies.\n",
      "             Features:\n",
      "             + extension-module\n",
      "             + indoc\n",
      "             + macros\n",
      "             + paste\n",
      "             + pyo3-macros\n",
      "             + unindent\n",
      "             - abi3\n",
      "             - abi3-py310\n",
      "             - abi3-py36\n",
      "             - abi3-py37\n",
      "             - abi3-py38\n",
      "             - abi3-py39\n",
      "             - anyhow\n",
      "             - auto-initialize\n",
      "             - eyre\n",
      "             - hashbrown\n",
      "             - indexmap\n",
      "             - inventory\n",
      "             - multiple-pymethods\n",
      "             - nightly\n",
      "             - num-bigint\n",
      "             - num-complex\n",
      "             - serde\n"
     ]
    }
   ],
   "source": [
    "%load_ext rustdef"
   ]
  },
  {
   "cell_type": "code",
   "execution_count": 2,
   "metadata": {},
   "outputs": [
    {
     "name": "stdout",
     "output_type": "stream",
     "text": [
      "usage: %rustdef deps add [-h] args [args ...]\n",
      "\n",
      "Add dependencies\n",
      "\n",
      "positional arguments:\n",
      "  args        Dependencies to be added. See cargo-edit\n",
      "\n",
      "options:\n",
      "  -h, --help  show this help message and exit\n"
     ]
    }
   ],
   "source": [
    "%rustdef deps add --help"
   ]
  },
  {
   "cell_type": "code",
   "execution_count": 3,
   "metadata": {},
   "outputs": [
    {
     "name": "stderr",
     "output_type": "stream",
     "text": [
      "    Updating crates.io index\n",
      "      Adding ndarray v0.15.0 to dependencies.\n",
      "             Features:\n",
      "             + std\n",
      "             - approx\n",
      "             - blas\n",
      "             - cblas-sys\n",
      "             - docs\n",
      "             - libc\n",
      "             - matrixmultiply-threading\n",
      "             - rayon\n",
      "             - rayon_\n",
      "             - serde\n",
      "             - serde-1\n",
      "             - test\n",
      "      Adding numpy v0.15.0 to dependencies.\n",
      "             Features:\n",
      "             - rayon\n"
     ]
    }
   ],
   "source": [
    "%rustdef deps add ndarray@0.15.0 numpy@0.15.0"
   ]
  },
  {
   "cell_type": "code",
   "execution_count": 4,
   "metadata": {},
   "outputs": [
    {
     "name": "stdout",
     "output_type": "stream",
     "text": [
      "ndarray = \"0.15.0\"\n",
      "numpy = \"0.15.0\"\n",
      "\n",
      "[pyo3]\n",
      "version = \"0.15.1\"\n",
      "features = [ \"extension-module\",]\n",
      "\n"
     ]
    }
   ],
   "source": [
    "%rustdef deps show"
   ]
  },
  {
   "cell_type": "code",
   "execution_count": 5,
   "metadata": {},
   "outputs": [
    {
     "name": "stdout",
     "output_type": "stream",
     "text": [
      "Building..\n",
      "🔗 Found pyo3 bindings\n",
      "🐍 Found CPython 3.10 at /usr/local/anaconda3/envs/rustdef-py311/bin/python\n",
      "\u001b[0m\u001b[0m\u001b[1m\u001b[32m   Compiling\u001b[0m autocfg v1.1.0\n",
      "\u001b[0m\u001b[0m\u001b[1m\u001b[32m   Compiling\u001b[0m proc-macro2 v1.0.47\n",
      "\u001b[0m\u001b[0m\u001b[1m\u001b[32m   Compiling\u001b[0m quote v1.0.21\n",
      "\u001b[0m\u001b[0m\u001b[1m\u001b[32m   Compiling\u001b[0m unicode-ident v1.0.5\n",
      "\u001b[0m\u001b[0m\u001b[1m\u001b[32m   Compiling\u001b[0m pyo3-build-config v0.15.2\n",
      "\u001b[0m\u001b[0m\u001b[1m\u001b[32m   Compiling\u001b[0m syn v1.0.105\n",
      "\u001b[0m\u001b[0m\u001b[1m\u001b[32m   Compiling\u001b[0m proc-macro-hack v0.5.19\n",
      "\u001b[0m\u001b[0m\u001b[1m\u001b[32m   Compiling\u001b[0m once_cell v1.16.0\n",
      "\u001b[0m\u001b[0m\u001b[1m\u001b[32m   Compiling\u001b[0m libc v0.2.138\n",
      "\u001b[0m\u001b[0m\u001b[1m\u001b[32m   Compiling\u001b[0m cfg-if v1.0.0\n",
      "\u001b[0m\u001b[0m\u001b[1m\u001b[32m   Compiling\u001b[0m parking_lot_core v0.8.5\n",
      "\u001b[0m\u001b[0m\u001b[1m\u001b[32m   Compiling\u001b[0m smallvec v1.10.0\n",
      "\u001b[0m\u001b[0m\u001b[1m\u001b[32m   Compiling\u001b[0m scopeguard v1.1.0\n",
      "\u001b[0m\u001b[0m\u001b[1m\u001b[32m   Compiling\u001b[0m unindent v0.1.10\n",
      "\u001b[0m\u001b[0m\u001b[1m\u001b[32m   Compiling\u001b[0m rawpointer v0.2.1\n",
      "\u001b[0m\u001b[0m\u001b[1m\u001b[32m   Compiling\u001b[0m cfg-if v0.1.10\n",
      "\u001b[K\u001b[0m\u001b[0m\u001b[1m\u001b[32m   Compiling\u001b[0m instant v0.1.12              ] 0/55: quote(build.rs), parking_...\n",
      "\u001b[K\u001b[0m\u001b[0m\u001b[1m\u001b[32m   Compiling\u001b[0m matrixmultiply v0.3.2        ] 1/55: quote(build.rs), parking_...\n",
      "\u001b[K\u001b[0m\u001b[0m\u001b[1m\u001b[32m   Compiling\u001b[0m num-traits v0.2.15          ] 16/55: libc(build), proc-macro-h...\n",
      "\u001b[0m\u001b[0m\u001b[1m\u001b[32m   Compiling\u001b[0m lock_api v0.4.9\n",
      "\u001b[0m\u001b[0m\u001b[1m\u001b[32m   Compiling\u001b[0m num-integer v0.1.45\n",
      "\u001b[K\u001b[0m\u001b[0m\u001b[1m\u001b[32m   Compiling\u001b[0m paste-impl v0.1.18          ] 28/55: num-traits(build), parkin...\u001b[0m\u001b[0m\u001b[1m\u001b[36m    Building\u001b[0m [==========>                ] 24/55: num-traits(build), lock_a...\n",
      "\u001b[K\u001b[0m\u001b[0m\u001b[1m\u001b[32m   Compiling\u001b[0m parking_lot v0.11.2      ] 33/55: num-traits(build), quote,......\n",
      "\u001b[K\u001b[0m\u001b[0m\u001b[1m\u001b[32m   Compiling\u001b[0m pyo3 v0.15.2=====>          ] 36/55: num-traits(build), pyo3-b...\n",
      "\u001b[K\u001b[0m\u001b[0m\u001b[1m\u001b[32m   Compiling\u001b[0m paste v0.1.18=====>         ] 38/55: pyo3(build.rs), parking_l...\n",
      "\u001b[K\u001b[0m\u001b[0m\u001b[1m\u001b[32m   Compiling\u001b[0m num-complex v0.4.2>      ] 43/55: syn, num-traits             ld)\n",
      "\u001b[K\u001b[0m\u001b[0m\u001b[1m\u001b[32m   Compiling\u001b[0m ndarray v0.15.6====>     ] 45/55: num-complex, syn            ...\n",
      "\u001b[K\u001b[0m\u001b[0m\u001b[1m\u001b[32m   Compiling\u001b[0m pyo3-macros-backend v0.15.246/55: ndarray, syn                   \n",
      "\u001b[K\u001b[0m\u001b[0m\u001b[1m\u001b[32m   Compiling\u001b[0m indoc-impl v0.3.6=====>     ] 46/55: pyo3-macros-backend, ndar...\n",
      "\u001b[K\u001b[0m\u001b[0m\u001b[1m\u001b[32m   Compiling\u001b[0m indoc v0.3.6===========>    ] 47/55: pyo3-macros-backend, ndar...\n",
      "\u001b[K\u001b[0m\u001b[0m\u001b[1m\u001b[32m   Compiling\u001b[0m pyo3-macros v0.15.2=====>   ] 50/55: pyo3-macros-backend         \n",
      "\u001b[K\u001b[0m\u001b[0m\u001b[1m\u001b[32m   Compiling\u001b[0m numpy v0.15.1=========>  ] 52/55: pyo3                           \n",
      "\u001b[K\u001b[0m\u001b[0m\u001b[1m\u001b[32m   Compiling\u001b[0m rustdef_cell_061582ff6121f84c360a9854f4f8a7dbb2f46141 v0.1.0 (/Users/ryosuke.kamesawa.mot/.rustdef/rustdef_cell_061582ff6121f84c360a9854f4f8a7dbb2f46141)    \n",
      "warning: use of deprecated constant `pyo3::impl_::deprecations::PYFN_NAME_ARGUMENT`: use `#[pyfn(m)] #[pyo3(name = \"...\")]` instead of `#[pyfn(m, \"...\")]`\n",
      "  --> rustdef_cell_061582ff6121f84c360a9854f4f8a7dbb2f46141/src/lib.rs:16:11\n",
      "   |\n",
      "16 | #[pyfn(m, \"axpy\")]\n",
      "   |           ^^^^^^\n",
      "   |\n",
      "   = note: `#[warn(deprecated)]` on by default\n",
      "\n",
      "\n",
      "warning: 1 warning emittedilding\u001b[0m [=========================> ] 54/55: rustdef_cell_061582ff6121...\n",
      "\n",
      "\n",
      "\u001b[K\u001b[0m\u001b[0m\u001b[1m\u001b[32m    Finished\u001b[0m dev [unoptimized + debuginfo] target(s) in 25.08s_061582ff6121...\n",
      "📦 Built wheel for CPython 3.10 to /Users/ryosuke.kamesawa.mot/.rustdef/target/wheels/rustdef_cell_061582ff6121f84c360a9854f4f8a7dbb2f46141-0.1.0-cp310-cp310-macosx_10_7_x86_64.whl\n",
      "Processing /Users/ryosuke.kamesawa.mot/.rustdef/target/wheels/rustdef_cell_061582ff6121f84c360a9854f4f8a7dbb2f46141-0.1.0-cp310-cp310-macosx_10_7_x86_64.whl\n",
      "Installing collected packages: rustdef-cell-061582ff6121f84c360a9854f4f8a7dbb2f46141\n",
      "Successfully installed rustdef-cell-061582ff6121f84c360a9854f4f8a7dbb2f46141-0.1.0\n"
     ]
    }
   ],
   "source": [
    "%%rustdef\n",
    "use numpy::{IntoPyArray, PyArrayDyn, PyReadonlyArrayDyn};\n",
    "use ndarray::{ArrayD, ArrayViewD};\n",
    "\n",
    "// immutable example\n",
    "fn axpy_rs(a: f64, x: ArrayViewD<'_, f64>, y: ArrayViewD<'_, f64>) -> ArrayD<f64> {\n",
    "    a * &x + &y\n",
    "}\n",
    "\n",
    "#[pyfn(m, \"axpy\")]\n",
    "fn axpy<'py>(\n",
    "    py: Python<'py>,\n",
    "    a: f64,\n",
    "    x: PyReadonlyArrayDyn<'py, f64>,\n",
    "    y: PyReadonlyArrayDyn<'py, f64>,\n",
    ") -> &'py PyArrayDyn<f64> {\n",
    "    let x = x.as_array();\n",
    "    let y = y.as_array();\n",
    "    axpy_rs(a, x, y).into_pyarray(py)\n",
    "}"
   ]
  },
  {
   "cell_type": "code",
   "execution_count": 6,
   "metadata": {},
   "outputs": [],
   "source": [
    "import numpy as np"
   ]
  },
  {
   "cell_type": "code",
   "execution_count": 7,
   "metadata": {},
   "outputs": [
    {
     "data": {
      "text/plain": [
       "array([ 4.7 , 18.58,  4.96])"
      ]
     },
     "execution_count": 7,
     "metadata": {},
     "output_type": "execute_result"
    }
   ],
   "source": [
    "axpy(2.4, np.array([1.0, 3.2, 2.9]), np.array([2.3, 10.9, -2]))"
   ]
  },
  {
   "cell_type": "code",
   "execution_count": 8,
   "metadata": {},
   "outputs": [
    {
     "name": "stdout",
     "output_type": "stream",
     "text": [
      "Building..\n",
      "🔗 Found pyo3 bindings\n",
      "🐍 Found CPython 3.10 at /usr/local/anaconda3/envs/rustdef-py311/bin/python\n",
      "\u001b[0m\u001b[0m\u001b[1m\u001b[32m   Compiling\u001b[0m rustdef_cell_eb290401c4e6e3348fa7a25c89d3386163589099 v0.1.0 (/Users/ryosuke.kamesawa.mot/.rustdef/rustdef_cell_eb290401c4e6e3348fa7a25c89d3386163589099)\n",
      "warning: use of deprecated constant `pyo3::impl_::deprecations::PYFN_NAME_ARGUMENT`: use `#[pyfn(m)] #[pyo3(name = \"...\")]` instead of `#[pyfn(m, \"...\")]`\n",
      "  --> rustdef_cell_eb290401c4e6e3348fa7a25c89d3386163589099/src/lib.rs:12:11\n",
      "   |\n",
      "12 | #[pyfn(m, \"mult_inline\")]\n",
      "   |           ^^^^^^^^^^^^^\n",
      "   |\n",
      "   = note: `#[warn(deprecated)]` on by default\n",
      "\n",
      "\n",
      "\u001b[K\u001b[0m\u001b[0m\u001b[1m\u001b[36m    Building\u001b[0m warning: 1 warning emitted\n",
      "\n",
      "[=========================> ] 54/55: rustdef_cell_eb290401c4e6...\n",
      "\u001b[K\u001b[0m\u001b[0m\u001b[1m\u001b[32m    Finished\u001b[0m dev [unoptimized + debuginfo] target(s) in 1.30sl_eb290401c4e6...\n",
      "📦 Built wheel for CPython 3.10 to /Users/ryosuke.kamesawa.mot/.rustdef/target/wheels/rustdef_cell_eb290401c4e6e3348fa7a25c89d3386163589099-0.1.0-cp310-cp310-macosx_10_7_x86_64.whl\n",
      "Processing /Users/ryosuke.kamesawa.mot/.rustdef/target/wheels/rustdef_cell_eb290401c4e6e3348fa7a25c89d3386163589099-0.1.0-cp310-cp310-macosx_10_7_x86_64.whl\n",
      "Installing collected packages: rustdef-cell-eb290401c4e6e3348fa7a25c89d3386163589099\n",
      "Successfully installed rustdef-cell-eb290401c4e6e3348fa7a25c89d3386163589099-0.1.0\n"
     ]
    }
   ],
   "source": [
    "%%rustdef\n",
    "use numpy::{IntoPyArray, PyArrayDyn, PyReadonlyArrayDyn};\n",
    "use ndarray::{ArrayD, ArrayViewD};\n",
    "\n",
    "// mutable example\n",
    "#[pyfn(m, \"mult_inline\")]\n",
    "fn mult_inline<'py>(_py: Python<'py>, a: f64, x: &'py PyArrayDyn<f64>) -> PyResult<()> {\n",
    "    let mut x = unsafe { x.as_array_mut() };\n",
    "    x *= a;\n",
    "    Ok(())\n",
    "}"
   ]
  },
  {
   "cell_type": "code",
   "execution_count": 9,
   "metadata": {},
   "outputs": [
    {
     "data": {
      "text/plain": [
       "(array([0.03543514, 0.57331017, 0.3636721 , 0.69263841, 0.14796075,\n",
       "        0.94630033, 0.29753375, 0.04364509, 0.78102218, 0.77589358]),\n",
       " array([0.21238349, 0.79239126, 0.79260236, 0.27942979, 0.15694099,\n",
       "        0.99800985, 0.57824666, 0.06794508, 0.77480404, 0.48441381]))"
      ]
     },
     "execution_count": 9,
     "metadata": {},
     "output_type": "execute_result"
    }
   ],
   "source": [
    "x = np.random.rand(10)\n",
    "y = np.random.rand(10)\n",
    "x, y"
   ]
  },
  {
   "cell_type": "code",
   "execution_count": 10,
   "metadata": {},
   "outputs": [
    {
     "data": {
      "text/plain": [
       "array([0.31868893, 2.51232176, 1.88361866, 2.35734502, 0.60082323,\n",
       "       3.83691084, 1.47084791, 0.19888035, 3.11787057, 2.81209456])"
      ]
     },
     "execution_count": 10,
     "metadata": {},
     "output_type": "execute_result"
    }
   ],
   "source": [
    "axpy(3.0, x, y)"
   ]
  },
  {
   "cell_type": "code",
   "execution_count": 11,
   "metadata": {},
   "outputs": [],
   "source": [
    "mult_inline(12.0, x)"
   ]
  },
  {
   "cell_type": "code",
   "execution_count": 12,
   "metadata": {},
   "outputs": [
    {
     "data": {
      "text/plain": [
       "array([ 0.42522172,  6.87972199,  4.36406519,  8.31166095,  1.77552899,\n",
       "       11.35560397,  3.57040501,  0.52374106,  9.37226613,  9.31072298])"
      ]
     },
     "execution_count": 12,
     "metadata": {},
     "output_type": "execute_result"
    }
   ],
   "source": [
    "x"
   ]
  },
  {
   "cell_type": "code",
   "execution_count": null,
   "metadata": {},
   "outputs": [],
   "source": []
  }
 ],
 "metadata": {
  "kernelspec": {
   "display_name": "Python 3.10.8 ('rustdef-py311')",
   "language": "python",
   "name": "python3"
  },
  "language_info": {
   "codemirror_mode": {
    "name": "ipython",
    "version": 3
   },
   "file_extension": ".py",
   "mimetype": "text/x-python",
   "name": "python",
   "nbconvert_exporter": "python",
   "pygments_lexer": "ipython3",
   "version": "3.10.8"
  },
  "vscode": {
   "interpreter": {
    "hash": "f8dcfc3d906748263a40e5d6ba00c4996e04c52d55a479efc85947097aceee5d"
   }
  }
 },
 "nbformat": 4,
 "nbformat_minor": 2
}

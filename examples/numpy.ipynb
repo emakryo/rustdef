{
 "cells": [
  {
   "cell_type": "code",
   "execution_count": 1,
   "metadata": {},
   "outputs": [
    {
     "name": "stdout",
     "output_type": "stream",
     "text": [
      "load rustdef\n"
     ]
    },
    {
     "data": {
      "application/javascript": [
       "\n",
       "require(['notebook/js/codecell'], function(codecell) {\n",
       "    codecell.CodeCell.options_default.highlight_modes['text/x-rustsrc']\n",
       "        = {'reg':[/^%%rustdef/]} ;\n",
       "    Jupyter.notebook.events.one('kernel_ready.Kernel', function(){\n",
       "        Jupyter.notebook.get_cells().map(function(cell){\n",
       "        if (cell.cell_type == 'code'){ cell.auto_highlight(); } }) ;\n",
       "    });\n",
       "});\n"
      ],
      "text/plain": [
       "<IPython.core.display.Javascript object>"
      ]
     },
     "metadata": {},
     "output_type": "display_data"
    }
   ],
   "source": [
    "%load_ext rustdef"
   ]
  },
  {
   "cell_type": "code",
   "execution_count": 2,
   "metadata": {},
   "outputs": [
    {
     "name": "stdout",
     "output_type": "stream",
     "text": [
      "usage: %rustdef deps add [-h] args [args ...]\n",
      "\n",
      "Add dependencies\n",
      "\n",
      "positional arguments:\n",
      "  args        Dependencies to be added. See cargo-edit\n",
      "\n",
      "optional arguments:\n",
      "  -h, --help  show this help message and exit\n"
     ]
    }
   ],
   "source": [
    "%rustdef deps add --help"
   ]
  },
  {
   "cell_type": "code",
   "execution_count": 3,
   "metadata": {},
   "outputs": [],
   "source": [
    "# numpy requires ndarray < 0.15.0\n",
    "%rustdef deps add ndarray@0.14.0 numpy"
   ]
  },
  {
   "cell_type": "code",
   "execution_count": 4,
   "metadata": {},
   "outputs": [
    {
     "name": "stdout",
     "output_type": "stream",
     "text": [
      "ndarray = \"0.14.0\"\n",
      "numpy = \"0.13.1\"\n",
      "\n",
      "[pyo3]\n",
      "version = \"0.13.2\"\n",
      "features = [ \"extension-module\",]\n",
      "\n"
     ]
    }
   ],
   "source": [
    "%rustdef deps show"
   ]
  },
  {
   "cell_type": "code",
   "execution_count": 5,
   "metadata": {},
   "outputs": [
    {
     "name": "stdout",
     "output_type": "stream",
     "text": [
      "Use previous build\n"
     ]
    }
   ],
   "source": [
    "%%rustdef\n",
    "use numpy::{IntoPyArray, PyArrayDyn, PyReadonlyArrayDyn};\n",
    "use ndarray::{ArrayD, ArrayViewD};\n",
    "\n",
    "// immutable example\n",
    "fn axpy_rs(a: f64, x: ArrayViewD<'_, f64>, y: ArrayViewD<'_, f64>) -> ArrayD<f64> {\n",
    "    a * &x + &y\n",
    "}\n",
    "\n",
    "#[pyfn(m, \"axpy\")]\n",
    "fn axpy<'py>(\n",
    "    py: Python<'py>,\n",
    "    a: f64,\n",
    "    x: PyReadonlyArrayDyn<'py, f64>,\n",
    "    y: PyReadonlyArrayDyn<'py, f64>,\n",
    ") -> &'py PyArrayDyn<f64> {\n",
    "    let x = x.as_array();\n",
    "    let y = y.as_array();\n",
    "    axpy_rs(a, x, y).into_pyarray(py)\n",
    "}"
   ]
  },
  {
   "cell_type": "code",
   "execution_count": 6,
   "metadata": {},
   "outputs": [],
   "source": [
    "import numpy as np"
   ]
  },
  {
   "cell_type": "code",
   "execution_count": 7,
   "metadata": {},
   "outputs": [
    {
     "data": {
      "text/plain": [
       "array([ 4.7 , 18.58,  4.96])"
      ]
     },
     "execution_count": 7,
     "metadata": {},
     "output_type": "execute_result"
    }
   ],
   "source": [
    "axpy(2.4, np.array([1.0, 3.2, 2.9]), np.array([2.3, 10.9, -2]))"
   ]
  },
  {
   "cell_type": "code",
   "execution_count": 8,
   "metadata": {},
   "outputs": [
    {
     "name": "stdout",
     "output_type": "stream",
     "text": [
      "Use previous build\n"
     ]
    }
   ],
   "source": [
    "%%rustdef\n",
    "use numpy::{IntoPyArray, PyArrayDyn, PyReadonlyArrayDyn};\n",
    "use ndarray::{ArrayD, ArrayViewD};\n",
    "\n",
    "// mutable example\n",
    "#[pyfn(m, \"mult_inline\")]\n",
    "fn mult_inline<'py>(_py: Python<'py>, a: f64, x: &'py PyArrayDyn<f64>) -> PyResult<()> {\n",
    "    let mut x = unsafe { x.as_array_mut() };\n",
    "    x *= a;\n",
    "    Ok(())\n",
    "}"
   ]
  },
  {
   "cell_type": "code",
   "execution_count": 9,
   "metadata": {},
   "outputs": [
    {
     "data": {
      "text/plain": [
       "(array([0.17041239, 0.16621988, 0.54191874, 0.9677506 , 0.76994787,\n",
       "        0.05423104, 0.86507003, 0.27770545, 0.70580458, 0.67681182]),\n",
       " array([0.38020526, 0.19851507, 0.09754443, 0.44738533, 0.25492649,\n",
       "        0.59898851, 0.15901704, 0.9779843 , 0.1517463 , 0.0469063 ]))"
      ]
     },
     "execution_count": 9,
     "metadata": {},
     "output_type": "execute_result"
    }
   ],
   "source": [
    "x = np.random.rand(10)\n",
    "y = np.random.rand(10)\n",
    "x, y"
   ]
  },
  {
   "cell_type": "code",
   "execution_count": 10,
   "metadata": {},
   "outputs": [
    {
     "data": {
      "text/plain": [
       "array([0.89144243, 0.69717472, 1.72330065, 3.35063713, 2.56477009,\n",
       "       0.76168164, 2.75422714, 1.81110064, 2.26916005, 2.07734175])"
      ]
     },
     "execution_count": 10,
     "metadata": {},
     "output_type": "execute_result"
    }
   ],
   "source": [
    "axpy(3.0, x, y)"
   ]
  },
  {
   "cell_type": "code",
   "execution_count": 11,
   "metadata": {},
   "outputs": [],
   "source": [
    "mult_inline(12.0, x)"
   ]
  },
  {
   "cell_type": "code",
   "execution_count": 12,
   "metadata": {},
   "outputs": [
    {
     "data": {
      "text/plain": [
       "array([ 2.04494867,  1.99463858,  6.50302488, 11.61300722,  9.2393744 ,\n",
       "        0.6507725 , 10.38084037,  3.33246535,  8.46965501,  8.12174178])"
      ]
     },
     "execution_count": 12,
     "metadata": {},
     "output_type": "execute_result"
    }
   ],
   "source": [
    "x"
   ]
  },
  {
   "cell_type": "code",
   "execution_count": null,
   "metadata": {},
   "outputs": [],
   "source": []
  }
 ],
 "metadata": {
  "kernelspec": {
   "display_name": "Python 3",
   "language": "python",
   "name": "python3"
  },
  "language_info": {
   "codemirror_mode": {
    "name": "ipython",
    "version": 3
   },
   "file_extension": ".py",
   "mimetype": "text/x-python",
   "name": "python",
   "nbconvert_exporter": "python",
   "pygments_lexer": "ipython3",
   "version": "3.6.12"
  }
 },
 "nbformat": 4,
 "nbformat_minor": 2
}

{
 "cells": [
  {
   "cell_type": "code",
   "execution_count": 1,
   "metadata": {
    "scrolled": false
   },
   "outputs": [
    {
     "name": "stdout",
     "output_type": "stream",
     "text": [
      "load rustdef\n"
     ]
    },
    {
     "data": {
      "application/javascript": [
       "\n",
       "require(['notebook/js/codecell'], function(codecell) {\n",
       "    codecell.CodeCell.options_default.highlight_modes['text/x-rustsrc']\n",
       "        = {'reg':[/^%%rustdef/]} ;\n",
       "    Jupyter.notebook.events.one('kernel_ready.Kernel', function(){\n",
       "        Jupyter.notebook.get_cells().map(function(cell){\n",
       "        if (cell.cell_type == 'code'){ cell.auto_highlight(); } }) ;\n",
       "    });\n",
       "});\n"
      ],
      "text/plain": [
       "<IPython.core.display.Javascript object>"
      ]
     },
     "metadata": {},
     "output_type": "display_data"
    },
    {
     "name": "stderr",
     "output_type": "stream",
     "text": [
      "     Created library package\n"
     ]
    },
    {
     "name": "stdout",
     "output_type": "stream",
     "text": [
      "    Updating 'https://github.com/rust-lang/crates.io-index' index\n",
      "      Adding pyo3 v0.15.0 to dependencies with features: [\"extension-module\"]\n"
     ]
    }
   ],
   "source": [
    "%load_ext rustdef"
   ]
  },
  {
   "cell_type": "code",
   "execution_count": 2,
   "metadata": {},
   "outputs": [
    {
     "name": "stdout",
     "output_type": "stream",
     "text": [
      "usage: %rustdef deps add [-h] args [args ...]\n",
      "\n",
      "Add dependencies\n",
      "\n",
      "positional arguments:\n",
      "  args        Dependencies to be added. See cargo-edit\n",
      "\n",
      "optional arguments:\n",
      "  -h, --help  show this help message and exit\n"
     ]
    }
   ],
   "source": [
    "%rustdef deps add --help"
   ]
  },
  {
   "cell_type": "code",
   "execution_count": 3,
   "metadata": {},
   "outputs": [
    {
     "name": "stdout",
     "output_type": "stream",
     "text": [
      "    Updating 'https://github.com/rust-lang/crates.io-index' index\n",
      "      Adding ndarray v0.15.0 to dependencies\n",
      "      Adding numpy v0.15.0 to dependencies\n"
     ]
    }
   ],
   "source": [
    "%rustdef deps add ndarray@0.15.0 numpy@0.15.0"
   ]
  },
  {
   "cell_type": "code",
   "execution_count": 4,
   "metadata": {},
   "outputs": [
    {
     "name": "stdout",
     "output_type": "stream",
     "text": [
      "ndarray = \"0.15.0\"\n",
      "numpy = \"0.15.0\"\n",
      "\n",
      "[pyo3]\n",
      "version = \"0.15.0\"\n",
      "features = [ \"extension-module\",]\n",
      "\n"
     ]
    }
   ],
   "source": [
    "%rustdef deps show"
   ]
  },
  {
   "cell_type": "code",
   "execution_count": 5,
   "metadata": {},
   "outputs": [
    {
     "name": "stdout",
     "output_type": "stream",
     "text": [
      "Building..\n",
      "🔗 Found pyo3 bindings\n",
      "🐍 Found CPython 3.7m at /usr/local/anaconda3/envs/rustdef/bin/python\n",
      "\u001b[0m\u001b[0m\u001b[1m\u001b[32m   Compiling\u001b[0m proc-macro2 v1.0.32\n",
      "\u001b[0m\u001b[0m\u001b[1m\u001b[32m   Compiling\u001b[0m unicode-xid v0.2.2\n",
      "\u001b[0m\u001b[0m\u001b[1m\u001b[32m   Compiling\u001b[0m autocfg v1.0.1\n",
      "\u001b[0m\u001b[0m\u001b[1m\u001b[32m   Compiling\u001b[0m proc-macro-hack v0.5.19\n",
      "\u001b[0m\u001b[0m\u001b[1m\u001b[32m   Compiling\u001b[0m pyo3-build-config v0.15.0\n",
      "\u001b[0m\u001b[0m\u001b[1m\u001b[32m   Compiling\u001b[0m syn v1.0.81\n",
      "\u001b[0m\u001b[0m\u001b[1m\u001b[32m   Compiling\u001b[0m once_cell v1.8.0\n",
      "\u001b[0m\u001b[0m\u001b[1m\u001b[32m   Compiling\u001b[0m libc v0.2.107\n",
      "\u001b[0m\u001b[0m\u001b[1m\u001b[32m   Compiling\u001b[0m parking_lot_core v0.8.5\n",
      "\u001b[0m\u001b[0m\u001b[1m\u001b[32m   Compiling\u001b[0m cfg-if v1.0.0\n",
      "\u001b[0m\u001b[0m\u001b[1m\u001b[32m   Compiling\u001b[0m scopeguard v1.1.0\n",
      "\u001b[0m\u001b[0m\u001b[1m\u001b[32m   Compiling\u001b[0m unindent v0.1.7\n",
      "\u001b[0m\u001b[0m\u001b[1m\u001b[32m   Compiling\u001b[0m smallvec v1.7.0\n",
      "\u001b[0m\u001b[0m\u001b[1m\u001b[32m   Compiling\u001b[0m rawpointer v0.2.1\n",
      "\u001b[0m\u001b[0m\u001b[1m\u001b[32m   Compiling\u001b[0m cfg-if v0.1.10\n",
      "\u001b[K\u001b[0m\u001b[0m\u001b[1m\u001b[32m   Compiling\u001b[0m instant v0.1.12           ] 0/51: cfg-if, autocfg, cfg-if, ...\n",
      "\u001b[K\u001b[0m\u001b[0m\u001b[1m\u001b[32m   Compiling\u001b[0m matrixmultiply v0.3.1     ] 2/51: autocfg, once_cell, scope......\n",
      "\u001b[K\u001b[0m\u001b[0m\u001b[1m\u001b[32m   Compiling\u001b[0m lock_api v0.4.5           ] 3/51: autocfg, once_cell, matri......\n",
      "\u001b[K\u001b[0m\u001b[0m\u001b[1m\u001b[32m   Compiling\u001b[0m num-traits v0.2.14          ] 10/51: autocfg, matrixmultiply, ...\n",
      "\u001b[K\u001b[0m\u001b[0m\u001b[1m\u001b[32m   Compiling\u001b[0m num-integer v0.1.44      ] 11/51: num-traits(build.rs), mat...\n",
      "\u001b[K\u001b[0m\u001b[0m\u001b[1m\u001b[32m   Compiling\u001b[0m quote v1.0.10            ] 25/51: libc, num-integer(build),......\n",
      "\u001b[K\u001b[0m\u001b[0m\u001b[1m\u001b[32m   Compiling\u001b[0m paste-impl v0.1.18          ] 25/51: libc, parking_lot_core, n...\n",
      "\u001b[K\u001b[0m\u001b[0m\u001b[1m\u001b[32m   Compiling\u001b[0m parking_lot v0.11.2      ] 32/51: syn, parking_lot_core, nu......\n",
      "\u001b[K\u001b[0m\u001b[0m\u001b[1m\u001b[32m   Compiling\u001b[0m paste v0.1.18====>          ] 33/51: syn, parking_lot, num-tra...\n",
      "\u001b[K\u001b[0m\u001b[0m\u001b[1m\u001b[32m   Compiling\u001b[0m pyo3 v0.15.0======>         ] 35/51: syn, paste, num-traits, p...\n",
      "\u001b[K\u001b[0m\u001b[0m\u001b[1m\u001b[32m   Compiling\u001b[0m num-complex v0.4.0       ] 36/51: pyo3(build.rs), syn, past...\n",
      "\u001b[K\u001b[0m\u001b[0m\u001b[1m\u001b[32m   Compiling\u001b[0m ndarray v0.15.3===>      ] 41/51: syn, num-complex            ...\n",
      "\u001b[K\u001b[0m\u001b[0m\u001b[1m\u001b[32m   Compiling\u001b[0m pyo3-macros-backend v0.15.042/51: syn, ndarray                   \n",
      "\u001b[K\u001b[0m\u001b[0m\u001b[1m\u001b[32m   Compiling\u001b[0m indoc-impl v0.3.6=====>     ] 42/51: pyo3-macros-backend, syn,...\n",
      "\u001b[K\u001b[0m\u001b[0m\u001b[1m\u001b[32m   Compiling\u001b[0m indoc v0.3.6===========>    ] 44/51: pyo3-macros-backend, indo...\n",
      "\u001b[K\u001b[0m\u001b[0m\u001b[1m\u001b[32m   Compiling\u001b[0m pyo3-macros v0.15.0=====>   ] 46/51: pyo3-macros-backend         \n",
      "\u001b[K\u001b[0m\u001b[0m\u001b[1m\u001b[32m   Compiling\u001b[0m numpy v0.15.0=========>  ] 48/51: pyo3                           \n",
      "\u001b[K\u001b[0m\u001b[0m\u001b[1m\u001b[32m   Compiling\u001b[0m rustdef_cell_061582ff6121f84c360a9854f4f8a7dbb2f46141 v0.1.0 (/Users/ryosuke.kamesawa.mot/.rustdef/rustdef_cell_061582ff6121f84c360a9854f4f8a7dbb2f46141)\n",
      "warning: use of deprecated constant `pyo3::impl_::deprecations::PYFN_NAME_ARGUMENT`: use `#[pyfn(m)] #[pyo3(name = \"...\")]` instead of `#[pyfn(m, \"...\")]`\n",
      "  --> rustdef_cell_061582ff6121f84c360a9854f4f8a7dbb2f46141/src/lib.rs:16:11\n",
      "   |\n",
      "16 | #[pyfn(m, \"axpy\")]\n",
      "   |           ^^^^^^\n",
      "   |\n",
      "   = note: `#[warn(deprecated)]` on by default\n",
      "\n",
      "\n",
      "\u001b[Kwarning: 1 warning emitted\n",
      "\n",
      "\u001b[0m\n",
      "\u001b[K\u001b[0m\u001b[0m\u001b[1m\u001b[32m    Finished\u001b[0m dev [unoptimized + debuginfo] target(s) in 22.32s_061582ff6121...\n",
      "📦 Built wheel for CPython 3.7m to /Users/ryosuke.kamesawa.mot/.rustdef/target/wheels/rustdef_cell_061582ff6121f84c360a9854f4f8a7dbb2f46141-0.1.0-cp37-cp37m-macosx_10_7_x86_64.whl\n",
      "Processing /Users/ryosuke.kamesawa.mot/.rustdef/target/wheels/rustdef_cell_061582ff6121f84c360a9854f4f8a7dbb2f46141-0.1.0-cp37-cp37m-macosx_10_7_x86_64.whl\n",
      "Installing collected packages: rustdef-cell-061582ff6121f84c360a9854f4f8a7dbb2f46141\n",
      "Successfully installed rustdef-cell-061582ff6121f84c360a9854f4f8a7dbb2f46141-0.1.0\n"
     ]
    }
   ],
   "source": [
    "%%rustdef\n",
    "use numpy::{IntoPyArray, PyArrayDyn, PyReadonlyArrayDyn};\n",
    "use ndarray::{ArrayD, ArrayViewD};\n",
    "\n",
    "// immutable example\n",
    "fn axpy_rs(a: f64, x: ArrayViewD<'_, f64>, y: ArrayViewD<'_, f64>) -> ArrayD<f64> {\n",
    "    a * &x + &y\n",
    "}\n",
    "\n",
    "#[pyfn(m, \"axpy\")]\n",
    "fn axpy<'py>(\n",
    "    py: Python<'py>,\n",
    "    a: f64,\n",
    "    x: PyReadonlyArrayDyn<'py, f64>,\n",
    "    y: PyReadonlyArrayDyn<'py, f64>,\n",
    ") -> &'py PyArrayDyn<f64> {\n",
    "    let x = x.as_array();\n",
    "    let y = y.as_array();\n",
    "    axpy_rs(a, x, y).into_pyarray(py)\n",
    "}"
   ]
  },
  {
   "cell_type": "code",
   "execution_count": 6,
   "metadata": {},
   "outputs": [],
   "source": [
    "import numpy as np"
   ]
  },
  {
   "cell_type": "code",
   "execution_count": 7,
   "metadata": {},
   "outputs": [
    {
     "data": {
      "text/plain": [
       "array([ 4.7 , 18.58,  4.96])"
      ]
     },
     "execution_count": 7,
     "metadata": {},
     "output_type": "execute_result"
    }
   ],
   "source": [
    "axpy(2.4, np.array([1.0, 3.2, 2.9]), np.array([2.3, 10.9, -2]))"
   ]
  },
  {
   "cell_type": "code",
   "execution_count": 8,
   "metadata": {},
   "outputs": [
    {
     "name": "stdout",
     "output_type": "stream",
     "text": [
      "Building..\n",
      "🔗 Found pyo3 bindings\n",
      "🐍 Found CPython 3.7m at /usr/local/anaconda3/envs/rustdef/bin/python\n",
      "\u001b[0m\u001b[0m\u001b[1m\u001b[32m   Compiling\u001b[0m rustdef_cell_eb290401c4e6e3348fa7a25c89d3386163589099 v0.1.0 (/Users/ryosuke.kamesawa.mot/.rustdef/rustdef_cell_eb290401c4e6e3348fa7a25c89d3386163589099)\n",
      "warning: use of deprecated constant `pyo3::impl_::deprecations::PYFN_NAME_ARGUMENT`: use `#[pyfn(m)] #[pyo3(name = \"...\")]` instead of `#[pyfn(m, \"...\")]`\n",
      "  --> rustdef_cell_eb290401c4e6e3348fa7a25c89d3386163589099/src/lib.rs:12:11\n",
      "   |\n",
      "12 | #[pyfn(m, \"mult_inline\")]\n",
      "   |           ^^^^^^^^^^^^^\n",
      "   |\n",
      "   = note: `#[warn(deprecated)]` on by default\n",
      "\n",
      "\n",
      "warning: 1 warning emittedilding\u001b[0m [=========================> ] 50/51: rustdef_cell_eb290401c4e6...\n",
      "\n",
      "\n",
      "\u001b[K\u001b[0m\u001b[0m\u001b[1m\u001b[32m    Finished\u001b[0m dev [unoptimized + debuginfo] target(s) in 1.89sl_eb290401c4e6...\n",
      "📦 Built wheel for CPython 3.7m to /Users/ryosuke.kamesawa.mot/.rustdef/target/wheels/rustdef_cell_eb290401c4e6e3348fa7a25c89d3386163589099-0.1.0-cp37-cp37m-macosx_10_7_x86_64.whl\n",
      "Processing /Users/ryosuke.kamesawa.mot/.rustdef/target/wheels/rustdef_cell_eb290401c4e6e3348fa7a25c89d3386163589099-0.1.0-cp37-cp37m-macosx_10_7_x86_64.whl\n",
      "Installing collected packages: rustdef-cell-eb290401c4e6e3348fa7a25c89d3386163589099\n",
      "Successfully installed rustdef-cell-eb290401c4e6e3348fa7a25c89d3386163589099-0.1.0\n"
     ]
    }
   ],
   "source": [
    "%%rustdef\n",
    "use numpy::{IntoPyArray, PyArrayDyn, PyReadonlyArrayDyn};\n",
    "use ndarray::{ArrayD, ArrayViewD};\n",
    "\n",
    "// mutable example\n",
    "#[pyfn(m, \"mult_inline\")]\n",
    "fn mult_inline<'py>(_py: Python<'py>, a: f64, x: &'py PyArrayDyn<f64>) -> PyResult<()> {\n",
    "    let mut x = unsafe { x.as_array_mut() };\n",
    "    x *= a;\n",
    "    Ok(())\n",
    "}"
   ]
  },
  {
   "cell_type": "code",
   "execution_count": 9,
   "metadata": {},
   "outputs": [
    {
     "data": {
      "text/plain": [
       "(array([0.78554241, 0.86826045, 0.0069701 , 0.51508886, 0.49016607,\n",
       "        0.85396403, 0.0254975 , 0.12552982, 0.67412181, 0.32502211]),\n",
       " array([0.1188691 , 0.40054706, 0.67865726, 0.20426603, 0.17742266,\n",
       "        0.24854702, 0.09243243, 0.48208843, 0.59401011, 0.26364802]))"
      ]
     },
     "execution_count": 9,
     "metadata": {},
     "output_type": "execute_result"
    }
   ],
   "source": [
    "x = np.random.rand(10)\n",
    "y = np.random.rand(10)\n",
    "x, y"
   ]
  },
  {
   "cell_type": "code",
   "execution_count": 10,
   "metadata": {},
   "outputs": [
    {
     "data": {
      "text/plain": [
       "array([2.47549633, 3.00532841, 0.69956756, 1.7495326 , 1.64792087,\n",
       "       2.81043911, 0.16892493, 0.85867787, 2.61637553, 1.23871436])"
      ]
     },
     "execution_count": 10,
     "metadata": {},
     "output_type": "execute_result"
    }
   ],
   "source": [
    "axpy(3.0, x, y)"
   ]
  },
  {
   "cell_type": "code",
   "execution_count": 11,
   "metadata": {},
   "outputs": [],
   "source": [
    "mult_inline(12.0, x)"
   ]
  },
  {
   "cell_type": "code",
   "execution_count": 12,
   "metadata": {},
   "outputs": [
    {
     "data": {
      "text/plain": [
       "array([ 9.42650888, 10.4191254 ,  0.0836412 ,  6.18106631,  5.88199286,\n",
       "       10.24756837,  0.30596999,  1.50635779,  8.0894617 ,  3.90026537])"
      ]
     },
     "execution_count": 12,
     "metadata": {},
     "output_type": "execute_result"
    }
   ],
   "source": [
    "x"
   ]
  },
  {
   "cell_type": "code",
   "execution_count": null,
   "metadata": {},
   "outputs": [],
   "source": []
  }
 ],
 "metadata": {
  "kernelspec": {
   "display_name": "Python 3 (ipykernel)",
   "language": "python",
   "name": "python3"
  },
  "language_info": {
   "codemirror_mode": {
    "name": "ipython",
    "version": 3
   },
   "file_extension": ".py",
   "mimetype": "text/x-python",
   "name": "python",
   "nbconvert_exporter": "python",
   "pygments_lexer": "ipython3",
   "version": "3.7.11"
  }
 },
 "nbformat": 4,
 "nbformat_minor": 2
}

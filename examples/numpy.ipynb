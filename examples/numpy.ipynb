{
 "cells": [
  {
   "cell_type": "code",
   "execution_count": 1,
   "metadata": {},
   "outputs": [
    {
     "name": "stdout",
     "output_type": "stream",
     "text": [
      "load rustdef\n"
     ]
    }
   ],
   "source": [
    "%load_ext rustdef"
   ]
  },
  {
   "cell_type": "code",
   "execution_count": 2,
   "metadata": {},
   "outputs": [],
   "source": [
    "%rustdef depends ndarray"
   ]
  },
  {
   "cell_type": "code",
   "execution_count": 3,
   "metadata": {},
   "outputs": [],
   "source": [
    "%%rustdef\n",
    "use rustdef::Numpy;\n",
    "\n",
    "// immutable example\n",
    "#[pyfunction]\n",
    "fn axpy<'a>(a: f64, x: Numpy<'a, f64>, y: Numpy<'a, f64>) -> PyResult<Numpy<'a, f64>> {\n",
    "    let x = x.to_array();\n",
    "    let y = y.to_array();\n",
    "    let z = a * x + y;\n",
    "    Ok(z.into())\n",
    "}"
   ]
  },
  {
   "cell_type": "code",
   "execution_count": 4,
   "metadata": {},
   "outputs": [],
   "source": [
    "import numpy as np"
   ]
  },
  {
   "cell_type": "code",
   "execution_count": 5,
   "metadata": {},
   "outputs": [
    {
     "data": {
      "text/plain": [
       "array([ 4.7 , 18.58,  4.96])"
      ]
     },
     "execution_count": 5,
     "metadata": {},
     "output_type": "execute_result"
    }
   ],
   "source": [
    "axpy(2.4, np.array([1.0, 3.2, 2.9]), np.array([2.3, 10.9, -2]))"
   ]
  },
  {
   "cell_type": "code",
   "execution_count": 6,
   "metadata": {},
   "outputs": [],
   "source": [
    "%%rustdef\n",
    "use rustdef::Numpy;\n",
    "\n",
    "// immutable example\n",
    "#[pyfunction]\n",
    "fn axpy<'a>(a: f64, x: Numpy<'a, f64>, y: Numpy<'a, f64>) -> PyResult<Numpy<'a, f64>> {\n",
    "    let x = x.to_array();\n",
    "    let y = y.to_array();\n",
    "    let z = a * x + y;\n",
    "    Ok(z.into())\n",
    "}\n",
    "\n",
    "#[pyfunction]\n",
    "fn mult_inline<'a>(a: f64, x: Numpy<'a, f64>) -> PyResult<()> {\n",
    "    let mut x = x.as_mut_array()?;\n",
    "    x *= a;\n",
    "    Ok(())\n",
    "}"
   ]
  },
  {
   "cell_type": "code",
   "execution_count": 7,
   "metadata": {},
   "outputs": [
    {
     "data": {
      "text/plain": [
       "(array([0.99701274, 0.49825399, 0.14670357, 0.2547876 , 0.9488243 ,\n",
       "        0.13399108, 0.97625598, 0.13905982, 0.35385467, 0.51901118]),\n",
       " array([0.37897084, 0.83750653, 0.66365192, 0.15153639, 0.89486123,\n",
       "        0.03179882, 0.55451258, 0.53825443, 0.47705533, 0.23497526]))"
      ]
     },
     "execution_count": 7,
     "metadata": {},
     "output_type": "execute_result"
    }
   ],
   "source": [
    "x = np.random.rand(10)\n",
    "y = np.random.rand(10)\n",
    "x, y"
   ]
  },
  {
   "cell_type": "code",
   "execution_count": 8,
   "metadata": {},
   "outputs": [
    {
     "data": {
      "text/plain": [
       "array([3.37000905, 2.33226849, 1.10376261, 0.91589919, 3.74133413,\n",
       "       0.43377206, 3.48328053, 0.95543388, 1.53861934, 1.79200882])"
      ]
     },
     "execution_count": 8,
     "metadata": {},
     "output_type": "execute_result"
    }
   ],
   "source": [
    "axpy(3.0, x, y)"
   ]
  },
  {
   "cell_type": "code",
   "execution_count": 9,
   "metadata": {},
   "outputs": [
    {
     "data": {
      "text/plain": [
       "array([11.96415286,  5.97904783,  1.76044279,  3.05745121, 11.38589157,\n",
       "        1.60789293, 11.71507181,  1.6687178 ,  4.24625602,  6.22813422])"
      ]
     },
     "execution_count": 9,
     "metadata": {},
     "output_type": "execute_result"
    }
   ],
   "source": [
    "mult_inline(12.0, x)\n",
    "x"
   ]
  },
  {
   "cell_type": "code",
   "execution_count": null,
   "metadata": {},
   "outputs": [],
   "source": []
  }
 ],
 "metadata": {
  "kernelspec": {
   "display_name": "Python 3",
   "language": "python",
   "name": "python3"
  },
  "language_info": {
   "codemirror_mode": {
    "name": "ipython",
    "version": 3
   },
   "file_extension": ".py",
   "mimetype": "text/x-python",
   "name": "python",
   "nbconvert_exporter": "python",
   "pygments_lexer": "ipython3",
   "version": "3.7.6"
  }
 },
 "nbformat": 4,
 "nbformat_minor": 2
}
